{
 "cells": [
  {
   "cell_type": "markdown",
   "id": "314ff6fe",
   "metadata": {},
   "source": [
    "# Capstone Project"
   ]
  },
  {
   "cell_type": "markdown",
   "id": "fc174471",
   "metadata": {},
   "source": [
    "## Supervised Anomaly Detection using ML Algorithms"
   ]
  },
  {
   "cell_type": "markdown",
   "id": "54749493",
   "metadata": {},
   "source": [
    "Machine Learning is used in fraud detection because of two major reasons- Speed and Adaptability. Machines are fundamentally more capable of quickly detecting patterns compared to humans. Also, as fraudsters change their tactics, machines can learn the new patterns much quicker. Machine learning is used for applications such as:\n",
    "- Predictions \n",
    "- Optimization\n",
    "- Detection\n",
    "- Classification\n",
    "\n",
    "There can be multiple approaches to this given problem.\n",
    "- Treating as supervised learning problem : Fitting various models on the dataset to classify\n",
    "- Treating as semi-supervised learning : Where you just map the correct data and any data points outside this domain are anomaly or fraud\n",
    "- Treating as a unsupervised learning : Where you try to isolate the fraud points from proper transaction without using labels\n",
    "\n",
    "In the notebook we will tackle this dataset using the Supervised learning models and compare their performances. For Supervised learning, training data is labeled with “nominal” or “anomaly”. It is the instance when a dataset comes neatly prepared for the data scientist with all data points labeled as anomaly or nominal. In this case, all anomalous points are known ahead of time. That means there are sets of data points that are anomalous, but are not identified as such for the model to train on. A supervised learning algorithm analyzes the training data and produces an inferred function, which can be used for mapping new examples. An optimal scenario will allow for the algorithm to correctly determine the class labels for unseen instances.<br>\n",
    "\n",
    "There numerous machine learning techniques to use. We will be using the following algorithms for Anomaly detection in this project and then compare their performances:\n",
    "1. **Random Forest**: The computation efficiency of the RF is better than the other tree based models such as the decision trees. RF is used for  regression and/or classification, they are easy to use because they require very few parameters to set. They use a modified tree learning algorithm that selects, at each split in the learning process, a random subset of the features. \n",
    "2. **Logistic Regression**: It is commonly used to estimate the probabilities that on instance belong to a particular class. It tells the probability that the transaction is fraud. If the probability is more than 50%, then the model predicts that the instance belongs to that class otherwise does not belong to that class. It is basically a binary classifier.\n",
    "\n",
    "3. **Bagging Classifier**:A Bagging classifier is an ensemble meta-estimator that fits base classifiers each on random subsets of the original dataset and then aggregate their individual predictions (either by voting or by averaging) to form a final prediction. Such a meta-estimator can typically be used as a way to reduce the variance of a black-box estimator (e.g., a decision tree), by introducing randomization into its construction procedure and then making an ensemble out of it\n",
    "\n",
    "4. **Support Vector Machines**: Support vector machines or SVMs are linear classifiers as stated that work in high dimensionality because in high-dimensions, a non-linear task in input becomes linear and hence this makes SVMs highly useful for detecting frauds. Due to its two most important features that is a kernel function to represent classification function in the dot product of input data point projection, and the fact that it tries finding a hyperplane to maximize separation between classes while minimizing overfitting of training data, it provides a very high generalization capability.\n",
    "    \n",
    "5. **Neural Network**:A neural network is a network of neurons, comprising of perceptron which is a linear binary classifier which helps to classify the inputs data. Each perceptron consists of four parts: Input layer, Weights and Bias, Weighted Sum and Activation Function. Here Feed Forward Neural Network (FNN) is used\n"
   ]
  },
  {
   "cell_type": "markdown",
   "id": "a9ea7425",
   "metadata": {},
   "source": [
    "======================================================================================================================\n",
    "### Imports"
   ]
  },
  {
   "cell_type": "code",
   "execution_count": 1,
   "id": "0d249d00",
   "metadata": {},
   "outputs": [],
   "source": [
    "import numpy as np\n",
    "import pandas as pd\n",
    "import matplotlib.pyplot as plt\n",
    "import seaborn as sns\n",
    "\n",
    "from sklearn.preprocessing import StandardScaler, MinMaxScaler\n",
    "from sklearn.linear_model import LogisticRegression\n",
    "from sklearn.model_selection import train_test_split, GridSearchCV, cross_val_score\n",
    "from sklearn.ensemble import RandomForestClassifier, BaggingClassifier, \\\n",
    "                            AdaBoostClassifier, IsolationForest\n",
    "from sklearn.svm import SVC, OneClassSVM\n",
    "from sklearn.neighbors import LocalOutlierFactor\n",
    "from sklearn.metrics import confusion_matrix, classification_report, plot_confusion_matrix, auc, roc_curve,\\\n",
    "                            accuracy_score, precision_score, recall_score, f1_score, roc_auc_score, precision_recall_curve\n",
    "\n"
   ]
  },
  {
   "cell_type": "markdown",
   "id": "9f394a6e",
   "metadata": {},
   "source": [
    "======================================================================================================================\n",
    "### Read the data"
   ]
  },
  {
   "cell_type": "code",
   "execution_count": 2,
   "id": "c33690a2",
   "metadata": {},
   "outputs": [
    {
     "data": {
      "text/html": [
       "<div>\n",
       "<style scoped>\n",
       "    .dataframe tbody tr th:only-of-type {\n",
       "        vertical-align: middle;\n",
       "    }\n",
       "\n",
       "    .dataframe tbody tr th {\n",
       "        vertical-align: top;\n",
       "    }\n",
       "\n",
       "    .dataframe thead th {\n",
       "        text-align: right;\n",
       "    }\n",
       "</style>\n",
       "<table border=\"1\" class=\"dataframe\">\n",
       "  <thead>\n",
       "    <tr style=\"text-align: right;\">\n",
       "      <th></th>\n",
       "      <th>Time</th>\n",
       "      <th>V1</th>\n",
       "      <th>V2</th>\n",
       "      <th>V3</th>\n",
       "      <th>V4</th>\n",
       "      <th>V5</th>\n",
       "      <th>V6</th>\n",
       "      <th>V7</th>\n",
       "      <th>V8</th>\n",
       "      <th>V9</th>\n",
       "      <th>V10</th>\n",
       "      <th>V11</th>\n",
       "      <th>V12</th>\n",
       "      <th>V13</th>\n",
       "      <th>V14</th>\n",
       "      <th>V15</th>\n",
       "      <th>V16</th>\n",
       "      <th>V17</th>\n",
       "      <th>V18</th>\n",
       "      <th>V19</th>\n",
       "      <th>V20</th>\n",
       "      <th>V21</th>\n",
       "      <th>V22</th>\n",
       "      <th>V23</th>\n",
       "      <th>V24</th>\n",
       "      <th>V25</th>\n",
       "      <th>V26</th>\n",
       "      <th>V27</th>\n",
       "      <th>V28</th>\n",
       "      <th>Amount</th>\n",
       "      <th>Class</th>\n",
       "    </tr>\n",
       "  </thead>\n",
       "  <tbody>\n",
       "    <tr>\n",
       "      <th>0</th>\n",
       "      <td>0.0</td>\n",
       "      <td>-1.359807</td>\n",
       "      <td>-0.072781</td>\n",
       "      <td>2.536347</td>\n",
       "      <td>1.378155</td>\n",
       "      <td>-0.338321</td>\n",
       "      <td>0.462388</td>\n",
       "      <td>0.239599</td>\n",
       "      <td>0.098698</td>\n",
       "      <td>0.363787</td>\n",
       "      <td>0.090794</td>\n",
       "      <td>-0.551600</td>\n",
       "      <td>-0.617801</td>\n",
       "      <td>-0.991390</td>\n",
       "      <td>-0.311169</td>\n",
       "      <td>1.468177</td>\n",
       "      <td>-0.470401</td>\n",
       "      <td>0.207971</td>\n",
       "      <td>0.025791</td>\n",
       "      <td>0.403993</td>\n",
       "      <td>0.251412</td>\n",
       "      <td>-0.018307</td>\n",
       "      <td>0.277838</td>\n",
       "      <td>-0.110474</td>\n",
       "      <td>0.066928</td>\n",
       "      <td>0.128539</td>\n",
       "      <td>-0.189115</td>\n",
       "      <td>0.133558</td>\n",
       "      <td>-0.021053</td>\n",
       "      <td>149.62</td>\n",
       "      <td>0</td>\n",
       "    </tr>\n",
       "    <tr>\n",
       "      <th>1</th>\n",
       "      <td>0.0</td>\n",
       "      <td>1.191857</td>\n",
       "      <td>0.266151</td>\n",
       "      <td>0.166480</td>\n",
       "      <td>0.448154</td>\n",
       "      <td>0.060018</td>\n",
       "      <td>-0.082361</td>\n",
       "      <td>-0.078803</td>\n",
       "      <td>0.085102</td>\n",
       "      <td>-0.255425</td>\n",
       "      <td>-0.166974</td>\n",
       "      <td>1.612727</td>\n",
       "      <td>1.065235</td>\n",
       "      <td>0.489095</td>\n",
       "      <td>-0.143772</td>\n",
       "      <td>0.635558</td>\n",
       "      <td>0.463917</td>\n",
       "      <td>-0.114805</td>\n",
       "      <td>-0.183361</td>\n",
       "      <td>-0.145783</td>\n",
       "      <td>-0.069083</td>\n",
       "      <td>-0.225775</td>\n",
       "      <td>-0.638672</td>\n",
       "      <td>0.101288</td>\n",
       "      <td>-0.339846</td>\n",
       "      <td>0.167170</td>\n",
       "      <td>0.125895</td>\n",
       "      <td>-0.008983</td>\n",
       "      <td>0.014724</td>\n",
       "      <td>2.69</td>\n",
       "      <td>0</td>\n",
       "    </tr>\n",
       "    <tr>\n",
       "      <th>2</th>\n",
       "      <td>1.0</td>\n",
       "      <td>-1.358354</td>\n",
       "      <td>-1.340163</td>\n",
       "      <td>1.773209</td>\n",
       "      <td>0.379780</td>\n",
       "      <td>-0.503198</td>\n",
       "      <td>1.800499</td>\n",
       "      <td>0.791461</td>\n",
       "      <td>0.247676</td>\n",
       "      <td>-1.514654</td>\n",
       "      <td>0.207643</td>\n",
       "      <td>0.624501</td>\n",
       "      <td>0.066084</td>\n",
       "      <td>0.717293</td>\n",
       "      <td>-0.165946</td>\n",
       "      <td>2.345865</td>\n",
       "      <td>-2.890083</td>\n",
       "      <td>1.109969</td>\n",
       "      <td>-0.121359</td>\n",
       "      <td>-2.261857</td>\n",
       "      <td>0.524980</td>\n",
       "      <td>0.247998</td>\n",
       "      <td>0.771679</td>\n",
       "      <td>0.909412</td>\n",
       "      <td>-0.689281</td>\n",
       "      <td>-0.327642</td>\n",
       "      <td>-0.139097</td>\n",
       "      <td>-0.055353</td>\n",
       "      <td>-0.059752</td>\n",
       "      <td>378.66</td>\n",
       "      <td>0</td>\n",
       "    </tr>\n",
       "    <tr>\n",
       "      <th>3</th>\n",
       "      <td>1.0</td>\n",
       "      <td>-0.966272</td>\n",
       "      <td>-0.185226</td>\n",
       "      <td>1.792993</td>\n",
       "      <td>-0.863291</td>\n",
       "      <td>-0.010309</td>\n",
       "      <td>1.247203</td>\n",
       "      <td>0.237609</td>\n",
       "      <td>0.377436</td>\n",
       "      <td>-1.387024</td>\n",
       "      <td>-0.054952</td>\n",
       "      <td>-0.226487</td>\n",
       "      <td>0.178228</td>\n",
       "      <td>0.507757</td>\n",
       "      <td>-0.287924</td>\n",
       "      <td>-0.631418</td>\n",
       "      <td>-1.059647</td>\n",
       "      <td>-0.684093</td>\n",
       "      <td>1.965775</td>\n",
       "      <td>-1.232622</td>\n",
       "      <td>-0.208038</td>\n",
       "      <td>-0.108300</td>\n",
       "      <td>0.005274</td>\n",
       "      <td>-0.190321</td>\n",
       "      <td>-1.175575</td>\n",
       "      <td>0.647376</td>\n",
       "      <td>-0.221929</td>\n",
       "      <td>0.062723</td>\n",
       "      <td>0.061458</td>\n",
       "      <td>123.50</td>\n",
       "      <td>0</td>\n",
       "    </tr>\n",
       "    <tr>\n",
       "      <th>4</th>\n",
       "      <td>2.0</td>\n",
       "      <td>-1.158233</td>\n",
       "      <td>0.877737</td>\n",
       "      <td>1.548718</td>\n",
       "      <td>0.403034</td>\n",
       "      <td>-0.407193</td>\n",
       "      <td>0.095921</td>\n",
       "      <td>0.592941</td>\n",
       "      <td>-0.270533</td>\n",
       "      <td>0.817739</td>\n",
       "      <td>0.753074</td>\n",
       "      <td>-0.822843</td>\n",
       "      <td>0.538196</td>\n",
       "      <td>1.345852</td>\n",
       "      <td>-1.119670</td>\n",
       "      <td>0.175121</td>\n",
       "      <td>-0.451449</td>\n",
       "      <td>-0.237033</td>\n",
       "      <td>-0.038195</td>\n",
       "      <td>0.803487</td>\n",
       "      <td>0.408542</td>\n",
       "      <td>-0.009431</td>\n",
       "      <td>0.798278</td>\n",
       "      <td>-0.137458</td>\n",
       "      <td>0.141267</td>\n",
       "      <td>-0.206010</td>\n",
       "      <td>0.502292</td>\n",
       "      <td>0.219422</td>\n",
       "      <td>0.215153</td>\n",
       "      <td>69.99</td>\n",
       "      <td>0</td>\n",
       "    </tr>\n",
       "  </tbody>\n",
       "</table>\n",
       "</div>"
      ],
      "text/plain": [
       "   Time        V1        V2        V3        V4        V5        V6        V7  \\\n",
       "0   0.0 -1.359807 -0.072781  2.536347  1.378155 -0.338321  0.462388  0.239599   \n",
       "1   0.0  1.191857  0.266151  0.166480  0.448154  0.060018 -0.082361 -0.078803   \n",
       "2   1.0 -1.358354 -1.340163  1.773209  0.379780 -0.503198  1.800499  0.791461   \n",
       "3   1.0 -0.966272 -0.185226  1.792993 -0.863291 -0.010309  1.247203  0.237609   \n",
       "4   2.0 -1.158233  0.877737  1.548718  0.403034 -0.407193  0.095921  0.592941   \n",
       "\n",
       "         V8        V9       V10       V11       V12       V13       V14  \\\n",
       "0  0.098698  0.363787  0.090794 -0.551600 -0.617801 -0.991390 -0.311169   \n",
       "1  0.085102 -0.255425 -0.166974  1.612727  1.065235  0.489095 -0.143772   \n",
       "2  0.247676 -1.514654  0.207643  0.624501  0.066084  0.717293 -0.165946   \n",
       "3  0.377436 -1.387024 -0.054952 -0.226487  0.178228  0.507757 -0.287924   \n",
       "4 -0.270533  0.817739  0.753074 -0.822843  0.538196  1.345852 -1.119670   \n",
       "\n",
       "        V15       V16       V17       V18       V19       V20       V21  \\\n",
       "0  1.468177 -0.470401  0.207971  0.025791  0.403993  0.251412 -0.018307   \n",
       "1  0.635558  0.463917 -0.114805 -0.183361 -0.145783 -0.069083 -0.225775   \n",
       "2  2.345865 -2.890083  1.109969 -0.121359 -2.261857  0.524980  0.247998   \n",
       "3 -0.631418 -1.059647 -0.684093  1.965775 -1.232622 -0.208038 -0.108300   \n",
       "4  0.175121 -0.451449 -0.237033 -0.038195  0.803487  0.408542 -0.009431   \n",
       "\n",
       "        V22       V23       V24       V25       V26       V27       V28  \\\n",
       "0  0.277838 -0.110474  0.066928  0.128539 -0.189115  0.133558 -0.021053   \n",
       "1 -0.638672  0.101288 -0.339846  0.167170  0.125895 -0.008983  0.014724   \n",
       "2  0.771679  0.909412 -0.689281 -0.327642 -0.139097 -0.055353 -0.059752   \n",
       "3  0.005274 -0.190321 -1.175575  0.647376 -0.221929  0.062723  0.061458   \n",
       "4  0.798278 -0.137458  0.141267 -0.206010  0.502292  0.219422  0.215153   \n",
       "\n",
       "   Amount  Class  \n",
       "0  149.62      0  \n",
       "1    2.69      0  \n",
       "2  378.66      0  \n",
       "3  123.50      0  \n",
       "4   69.99      0  "
      ]
     },
     "execution_count": 2,
     "metadata": {},
     "output_type": "execute_result"
    }
   ],
   "source": [
    "pd.set_option('display.max_columns', None)\n",
    "df = pd.read_csv('../data/creditcard 2.csv')\n",
    "df.head()"
   ]
  },
  {
   "cell_type": "code",
   "execution_count": 3,
   "id": "e8026f18",
   "metadata": {},
   "outputs": [
    {
     "data": {
      "text/plain": [
       "(284807, 31)"
      ]
     },
     "execution_count": 3,
     "metadata": {},
     "output_type": "execute_result"
    }
   ],
   "source": [
    "df.shape"
   ]
  },
  {
   "cell_type": "code",
   "execution_count": 4,
   "id": "85fa5bae",
   "metadata": {},
   "outputs": [
    {
     "data": {
      "text/plain": [
       "Index(['Time', 'V1', 'V2', 'V3', 'V4', 'V5', 'V6', 'V7', 'V8', 'V9', 'V10',\n",
       "       'V11', 'V12', 'V13', 'V14', 'V15', 'V16', 'V17', 'V18', 'V19', 'V20',\n",
       "       'V21', 'V22', 'V23', 'V24', 'V25', 'V26', 'V27', 'V28', 'Amount',\n",
       "       'Class'],\n",
       "      dtype='object')"
      ]
     },
     "execution_count": 4,
     "metadata": {},
     "output_type": "execute_result"
    }
   ],
   "source": [
    "df.columns"
   ]
  },
  {
   "cell_type": "markdown",
   "id": "e98189e6",
   "metadata": {},
   "source": [
    "======================================================================================================================\n",
    "## Supervised Learning Models\n",
    "\n",
    "### Baseline Model\n",
    "Baseline model is something we have to compare our model against. This represents the simpliest model we can use. Here, the "
   ]
  },
  {
   "cell_type": "code",
   "execution_count": 5,
   "id": "958c9bfc",
   "metadata": {},
   "outputs": [
    {
     "data": {
      "text/plain": [
       "0    0.998273\n",
       "1    0.001727\n",
       "Name: Class, dtype: float64"
      ]
     },
     "execution_count": 5,
     "metadata": {},
     "output_type": "execute_result"
    }
   ],
   "source": [
    "y = df['Class']\n",
    "y.value_counts(normalize= True)"
   ]
  },
  {
   "cell_type": "markdown",
   "id": "e0c50771",
   "metadata": {},
   "source": [
    "### **We will run a baseline model on the imbalanced dataset first.**"
   ]
  },
  {
   "cell_type": "markdown",
   "id": "5b9119fe",
   "metadata": {},
   "source": [
    "#### Define X and y"
   ]
  },
  {
   "cell_type": "code",
   "execution_count": 6,
   "id": "8093fc5e",
   "metadata": {},
   "outputs": [],
   "source": [
    "X = df.drop(columns = 'Class')\n",
    "y = df['Class']"
   ]
  },
  {
   "cell_type": "markdown",
   "id": "1b7f68dd",
   "metadata": {},
   "source": [
    "#### Train Test Split"
   ]
  },
  {
   "cell_type": "code",
   "execution_count": 7,
   "id": "8ad48373",
   "metadata": {},
   "outputs": [],
   "source": [
    "X_train, X_test, y_train, y_test = train_test_split(X, y, random_state = 42, stratify = y)"
   ]
  },
  {
   "cell_type": "markdown",
   "id": "cd601509",
   "metadata": {},
   "source": [
    "#### Scale the data"
   ]
  },
  {
   "cell_type": "code",
   "execution_count": 8,
   "id": "a0928416",
   "metadata": {},
   "outputs": [],
   "source": [
    "ss = StandardScaler()\n",
    "\n",
    "Xs_train = ss.fit_transform(X_train)\n",
    "Xs_test = ss.transform(X_test)"
   ]
  },
  {
   "cell_type": "markdown",
   "id": "833bba4b",
   "metadata": {},
   "source": [
    "#### Fit a Logistic Regression model"
   ]
  },
  {
   "cell_type": "code",
   "execution_count": 50,
   "id": "968b3898",
   "metadata": {},
   "outputs": [
    {
     "name": "stdout",
     "output_type": "stream",
     "text": [
      "CPU times: user 3.85 s, sys: 451 ms, total: 4.3 s\n",
      "Wall time: 3.02 s\n"
     ]
    },
    {
     "data": {
      "text/plain": [
       "LogisticRegression()"
      ]
     },
     "execution_count": 50,
     "metadata": {},
     "output_type": "execute_result"
    }
   ],
   "source": [
    "%%time\n",
    "logreg = LogisticRegression()\n",
    "\n",
    "logreg.fit(Xs_train, y_train)"
   ]
  },
  {
   "cell_type": "code",
   "execution_count": 10,
   "id": "c94bbe22",
   "metadata": {},
   "outputs": [
    {
     "name": "stdout",
     "output_type": "stream",
     "text": [
      "Model training score:  0.999246272325086\n",
      "Model testing score:  0.9991573270413753\n"
     ]
    }
   ],
   "source": [
    "print(\"Model training score: \", logreg.score(Xs_train, y_train))\n",
    "print(\"Model testing score: \", logreg.score(Xs_test, y_test))\n"
   ]
  },
  {
   "cell_type": "markdown",
   "id": "c0a6d8c0",
   "metadata": {},
   "source": [
    "#### Get Predcitions and Evaluate"
   ]
  },
  {
   "cell_type": "code",
   "execution_count": 11,
   "id": "0284b187",
   "metadata": {},
   "outputs": [],
   "source": [
    "preds_logreg = logreg.predict(Xs_test)"
   ]
  },
  {
   "cell_type": "code",
   "execution_count": 12,
   "id": "575bdb17",
   "metadata": {},
   "outputs": [],
   "source": [
    "def evaluation(X_test, y_test, preds, model):\n",
    "    tn, fp, fn, tp = confusion_matrix(y_test, preds).ravel()\n",
    "    recall = tp/(tp+fn)\n",
    "    precision = tp/(tp+fp)\n",
    "\n",
    "    plot_confusion_matrix(model, X_test, y_test, cmap='plasma', values_format='d');\n",
    "    plt.ylabel('Actual Label')\n",
    "    plt.xlabel('Predicted Label')\n",
    "    \n",
    "    print(f\" Recall: {recall}\")\n",
    "    print(f\" Precision: {precision}\")\n",
    "    print(\"TN: \", tn)\n",
    "    print(\"FP: \", fp)\n",
    "    print(\"FN: \", fn)\n",
    "    print(\"TP: \", tp)    \n",
    "    "
   ]
  },
  {
   "cell_type": "code",
   "execution_count": 13,
   "id": "c2f2f41a",
   "metadata": {},
   "outputs": [
    {
     "name": "stdout",
     "output_type": "stream",
     "text": [
      " Recall: 0.6260162601626016\n",
      " Precision: 0.8461538461538461\n",
      "TN:  71065\n",
      "FP:  14\n",
      "FN:  46\n",
      "TP:  77\n"
     ]
    },
    {
     "data": {
      "image/png": "[encoded data removed]",
      "text/plain": [
       "<Figure size 432x288 with 2 Axes>"
      ]
     },
     "metadata": {
      "needs_background": "light"
     },
     "output_type": "display_data"
    }
   ],
   "source": [
    "evaluation(Xs_test, y_test, preds_logreg, logreg);"
   ]
  },
  {
   "cell_type": "markdown",
   "id": "690788b2",
   "metadata": {},
   "source": [
    "Note: Confusion matrix is a convenient way to see how our model performs. Our model predicted that 46 fraudulent transactions were not fraud and predicted 14 cases were fraud when they were not fraudulent. Our goal is to improve the recall on our test set. <br>\n",
    "- Recall/Sensitivity :Of all the transactions that were fraudulants, how many of those did we correctly predict?<br>\n",
    "- Recall = TP/(TP + FN)\n",
    "- Recall score is given more emphasize than the other scores i.e., we want to capture as many frauds as possible. Of course, in doing this we would mistakenly classify normal and valid transactions as fraudulent."
   ]
  },
  {
   "cell_type": "code",
   "execution_count": 14,
   "id": "998ce862",
   "metadata": {},
   "outputs": [
    {
     "name": "stdout",
     "output_type": "stream",
     "text": [
      "Logistic test roc-auc: 0.49989963074408106\n"
     ]
    }
   ],
   "source": [
    "#Calculate ROC AUC\n",
    "# roc_score = roc_auc_score(y_test, logreg.predict_proba(X_test)[:,1])\n",
    "print('Logistic test roc-auc: {}'.format(roc_auc_score(y_test, logreg.predict_proba(X_test)[:,1])))"
   ]
  },
  {
   "cell_type": "code",
   "execution_count": 15,
   "id": "71d56f3e",
   "metadata": {},
   "outputs": [
    {
     "name": "stdout",
     "output_type": "stream",
     "text": [
      "AUC :  0.006280470621769707\n"
     ]
    }
   ],
   "source": [
    "# Source: https://machinelearningmastery.com/roc-curves-and-precision-recall-curves-for-classification-in-python/\n",
    "# Calculate the Precision recall curve\n",
    "lr_precision, lr_recall, thresholds = precision_recall_curve(y_test, logreg.predict_proba(X_test)[:, 1])\n",
    "print('AUC : ', auc(lr_recall, lr_precision))"
   ]
  },
  {
   "cell_type": "markdown",
   "id": "61b4e0d8",
   "metadata": {},
   "source": [
    "Note: \n",
    "- Accuracy will give you the percentage of times your model is getting the prediction correct. This can give you a decent snapshot of how well your model is doing, but does not tell the whole story (especially if you have imbalanced classes)\n",
    "- We can see that the model is penalized for predicting the majority class in all cases. The scores show that the model that looked good according to the ROC Curve is in fact barely skillful when considered using precision and recall that focus on the positive class.\n",
    "- This is possible because the model predicts probabilities and is uncertain about some cases\n",
    "- Generally, the use of ROC curves and precision-recall curves are as follows:\n",
    "    - ROC curves should be used when there are roughly equal numbers of observations for each class.\n",
    "    - Precision-Recall curves should be used when there is a moderate to large class imbalance."
   ]
  },
  {
   "cell_type": "code",
   "execution_count": 16,
   "id": "e4d12ceb",
   "metadata": {},
   "outputs": [
    {
     "name": "stdout",
     "output_type": "stream",
     "text": [
      "[{'model': 'LogisticRegression', 'train': 0.999246272325086, 'test': 0.9991573270413753, 'precision': 0.8461538461538461, 'recall': 0.6260162601626016, 'f1_score': 0.719626168224299, 'ROC AUC': 0.04212260330512814}]\n"
     ]
    }
   ],
   "source": [
    "# Creating a dictionary of 'results' and a 'eval_list' to be able to retrieve the metrics for model comparision\n",
    "\n",
    "results1={}\n",
    "\n",
    "eval_list1=[]\n",
    "results1['model'] = 'LogisticRegression'\n",
    "results1['train'] = logreg.score(Xs_train, y_train)\n",
    "results1['test'] = logreg.score(Xs_test, y_test)\n",
    "results1['precision'] = precision_score(y_test, preds_logreg)\n",
    "results1['recall'] = recall_score(y_test, preds_logreg)\n",
    "results1['f1_score'] = f1_score(y_test, preds_logreg)\n",
    "results1['ROC AUC'] = roc_auc_score(y_test,logreg.predict_proba(Xs_test)[:,:-1])\n",
    "# roc_auc_score(y_test, logreg.predict_proba(Xs_test)[:,1])\n",
    "\n",
    "eval_list1.append(results1)\n",
    "\n",
    "print(eval_list1)\n"
   ]
  },
  {
   "cell_type": "markdown",
   "id": "3f67f693",
   "metadata": {},
   "source": [
    "---\n",
    "## Handling Imbalanced Data"
   ]
  },
  {
   "cell_type": "markdown",
   "id": "86ba4dc3",
   "metadata": {},
   "source": [
    "### SMOTE Technique\n",
    "The challenge of working with imbalanced datasets is that most machine learning techniques will ignore, and in turn have poor performance on, the minority class, although typically it is performance on the minority class that is most important. One approach to addressing imbalanced datasets is to oversample the minority class. The simplest approach involves duplicating examples in the minority class, although these examples don’t add any new information to the model. Instead, new examples can be synthesized from the existing examples. This is a type of data augmentation for the minority class and is referred to as the Synthetic Minority Oversampling Technique, or SMOTE for short ([source](https://machinelearningmastery.com/smote-oversampling-for-imbalanced-classification/)).\n",
    "This technique uses nearest neighbors to synthetically create fake datapoints to use for oversampling."
   ]
  },
  {
   "cell_type": "code",
   "execution_count": 17,
   "id": "16255293",
   "metadata": {},
   "outputs": [
    {
     "name": "stdout",
     "output_type": "stream",
     "text": [
      "class 0 = Non_fraud: (284315, 31)\n",
      "class 1 = Fraud: (492, 31)\n"
     ]
    }
   ],
   "source": [
    "Non_fraud = df[df['Class'] == 0]\n",
    "Fraud = df[df['Class'] == 1]  # print the shape of the class\n",
    "print('class 0 = Non_fraud:', Non_fraud.shape)\n",
    "print('class 1 = Fraud:', Fraud.shape)"
   ]
  },
  {
   "cell_type": "code",
   "execution_count": 18,
   "id": "41b8564c",
   "metadata": {},
   "outputs": [],
   "source": [
    "def print_sampling_stats(Xs_train, X_train_sampled,\n",
    "                         y_train, y_train_sampled,\n",
    "                         y_test):\n",
    "    \n",
    "    print('Original dataset classes: {}'.format(Counter(y_train)))\n",
    "    print('Resampled dataset classes: {}'.format(Counter(y_train_sampled)))\n",
    "    print()\n",
    "    print('Test dataset classes still the same to model real world: {}'.format(Counter(y_test)))\n",
    "\n",
    "    print()\n",
    "    print('X_train shape (under/reg): ', X_train_sampled.shape, Xs_train.shape)\n",
    "    print('y_train shape (under/reg): ', y_train_sampled.shape, y_train.shape)\n",
    "    print('X_test, shape y_test: ', Xs_test.shape, y_test.shape)"
   ]
  },
  {
   "cell_type": "code",
   "execution_count": 19,
   "id": "69e29fca",
   "metadata": {},
   "outputs": [
    {
     "name": "stdout",
     "output_type": "stream",
     "text": [
      "Original dataset classes: Counter({0: 213236, 1: 369})\n",
      "Resampled dataset classes: Counter({0: 213236, 1: 213236})\n",
      "\n",
      "Test dataset classes still the same to model real world: Counter({0: 71079, 1: 123})\n",
      "\n",
      "X_train shape (under/reg):  (426472, 30) (213605, 30)\n",
      "y_train shape (under/reg):  (426472,) (213605,)\n",
      "X_test, shape y_test:  (71202, 30) (71202,)\n"
     ]
    }
   ],
   "source": [
    "from imblearn.over_sampling import SMOTE\n",
    "from collections import Counter\n",
    "\n",
    "smote = SMOTE()\n",
    "\n",
    "X_train_smote, y_train_smote = smote.fit_resample(Xs_train, y_train)\n",
    "\n",
    "print_sampling_stats(Xs_train, X_train_smote, y_train, y_train_smote, y_test)\n"
   ]
  },
  {
   "cell_type": "code",
   "execution_count": 20,
   "id": "571459a5",
   "metadata": {},
   "outputs": [
    {
     "name": "stdout",
     "output_type": "stream",
     "text": [
      "Resampled shape of Xs_train:  (426472, 30)\n",
      "Resampled shape of y_train:  (426472,)\n",
      "Counter({0: 213236, 1: 213236})\n"
     ]
    }
   ],
   "source": [
    "print(\"Resampled shape of Xs_train: \", X_train_smote.shape)\n",
    "print(\"Resampled shape of y_train: \", y_train_smote.shape)\n",
    "value_counts = Counter(y_train_smote)\n",
    "print(value_counts)"
   ]
  },
  {
   "cell_type": "code",
   "execution_count": 47,
   "id": "8cdfa6da",
   "metadata": {
    "scrolled": true
   },
   "outputs": [
    {
     "data": {
      "text/plain": [
       "<AxesSubplot:xlabel='Class', ylabel='count'>"
      ]
     },
     "execution_count": 47,
     "metadata": {},
     "output_type": "execute_result"
    },
    {
     "data": {
      "image/png": "[encoded data removed]",
      "text/plain": [
       "<Figure size 432x288 with 1 Axes>"
      ]
     },
     "metadata": {
      "needs_background": "light"
     },
     "output_type": "display_data"
    }
   ],
   "source": [
    "sns.countplot(x=y_train_smote, data=df, palette='winter')\n",
    "\n",
    "#the classes are balanced after applying the SMOTE technique"
   ]
  },
  {
   "cell_type": "markdown",
   "id": "9bfaa7bc",
   "metadata": {},
   "source": [
    "---\n",
    "## Logistic Regression with SMOTE"
   ]
  },
  {
   "cell_type": "code",
   "execution_count": 51,
   "id": "d9246c94",
   "metadata": {
    "scrolled": false
   },
   "outputs": [
    {
     "name": "stdout",
     "output_type": "stream",
     "text": [
      "Model training score(Smote):  0.955375733928605\n",
      "Model testing score(Smote):  0.9754782169040196\n",
      " Recall: 0.8861788617886179\n",
      " Precision: 0.059206952743074415\n",
      "TN:  69347\n",
      "FP:  1732\n",
      "FN:  14\n",
      "TP:  109\n",
      "CPU times: user 8.69 s, sys: 1.15 s, total: 9.84 s\n",
      "Wall time: 7.16 s\n"
     ]
    },
    {
     "data": {
      "image/png": "[encoded data removed]",
      "text/plain": [
       "<Figure size 432x288 with 2 Axes>"
      ]
     },
     "metadata": {
      "needs_background": "light"
     },
     "output_type": "display_data"
    }
   ],
   "source": [
    "%%time\n",
    "# Fit a Logistic Regression to the Balanced Class dataset.\n",
    "\n",
    "lr_smote = LogisticRegression()\n",
    "\n",
    "lr_smote.fit(X_train_smote, y_train_smote)\n",
    "\n",
    "print(\"Model training score(Smote): \", lr_smote.score(X_train_smote, y_train_smote))\n",
    "print(\"Model testing score(Smote): \", lr_smote.score(Xs_test, y_test))\n",
    "\n",
    "# Get Predictions and Evaluate \n",
    "\n",
    "preds_lrsmote = lr_smote.predict(Xs_test)\n",
    "\n",
    "evaluation(Xs_test, y_test, preds_lrsmote, lr_smote)\n"
   ]
  },
  {
   "cell_type": "code",
   "execution_count": 23,
   "id": "df8424c7",
   "metadata": {},
   "outputs": [
    {
     "name": "stdout",
     "output_type": "stream",
     "text": [
      "[{'model': 'LogisticRegression-SMOTE', 'train': 0.955375733928605, 'test': 0.9754782169040196, 'precision': 0.059206952743074415, 'recall': 0.8861788617886179, 'f1_score': 0.1109979633401222, 'ROC AUC': 0.027578383241731362}]\n"
     ]
    }
   ],
   "source": [
    "# Creating a dictionary of 'results' and a 'eval_list' to be able to retrieve the metrics for model comparision\n",
    "\n",
    "results2={}\n",
    "\n",
    "eval_list2=[]\n",
    "results2['model'] = 'LogisticRegression-SMOTE'\n",
    "results2['train'] = lr_smote.score(X_train_smote, y_train_smote)\n",
    "results2['test'] = lr_smote.score(Xs_test, y_test)\n",
    "results2['precision'] = precision_score(y_test, preds_lrsmote)\n",
    "results2['recall'] = recall_score(y_test, preds_lrsmote)\n",
    "results2['f1_score'] = f1_score(y_test, preds_lrsmote)\n",
    "results2['ROC AUC'] = roc_auc_score(y_test, lr_smote.predict_proba(Xs_test)[:,:-1])\n",
    "eval_list2.append(results2)\n",
    "\n",
    "print(eval_list2)\n"
   ]
  },
  {
   "cell_type": "code",
   "execution_count": 24,
   "id": "875995cc",
   "metadata": {},
   "outputs": [
    {
     "data": {
      "text/plain": [
       "Text(0.5, 1.0, 'Precision Recall Curve')"
      ]
     },
     "execution_count": 24,
     "metadata": {},
     "output_type": "execute_result"
    },
    {
     "data": {
      "image/png": "[encoded data removed]",
      "text/plain": [
       "<Figure size 432x288 with 1 Axes>"
      ]
     },
     "metadata": {
      "needs_background": "light"
     },
     "output_type": "display_data"
    }
   ],
   "source": [
    "# Precision Recall Curve\n",
    "\n",
    "y_pred_prob = lr_smote.predict_proba(Xs_test)[:,1]\n",
    "precision, recall, thresholds = precision_recall_curve(y_test, y_pred_prob)\n",
    "plt.plot(precision, recall)\n",
    "plt.xlabel('Recall')\n",
    "plt.ylabel('Precision')\n",
    "plt.title('Precision Recall Curve')"
   ]
  },
  {
   "cell_type": "markdown",
   "id": "cb89a4d9",
   "metadata": {},
   "source": [
    "---\n",
    "## Random Forest with SMOTE"
   ]
  },
  {
   "cell_type": "code",
   "execution_count": 52,
   "id": "97741286",
   "metadata": {
    "scrolled": false
   },
   "outputs": [
    {
     "name": "stdout",
     "output_type": "stream",
     "text": [
      "Model training score(Smote):  1.0\n",
      "Model testing score(Smote):  0.9994803516755147\n",
      " Recall: 0.7967479674796748\n",
      " Precision: 0.8909090909090909\n",
      "TN:  71067\n",
      "FP:  12\n",
      "FN:  25\n",
      "TP:  98\n",
      "CPU times: user 7min 11s, sys: 3.79 s, total: 7min 15s\n",
      "Wall time: 8min 19s\n"
     ]
    },
    {
     "data": {
      "image/png": "[encoded data removed]",
      "text/plain": [
       "<Figure size 432x288 with 2 Axes>"
      ]
     },
     "metadata": {
      "needs_background": "light"
     },
     "output_type": "display_data"
    }
   ],
   "source": [
    "%%time\n",
    "# instantiate Random Forest\n",
    "\n",
    "rf_sm = RandomForestClassifier(random_state=42)\n",
    "rf_sm.fit(X_train_smote, y_train_smote)\n",
    "\n",
    "print(\"Model training score(Smote): \", rf_sm.score(X_train_smote, y_train_smote))\n",
    "print(\"Model testing score(Smote): \", rf_sm.score(Xs_test, y_test))\n",
    "\n",
    "# Get Predictions and Evaluate \n",
    "\n",
    "preds_rf_sm = rf_sm.predict(Xs_test)\n",
    "\n",
    "evaluation(Xs_test, y_test, preds_rf_sm, rf_sm)\n"
   ]
  },
  {
   "cell_type": "code",
   "execution_count": 49,
   "id": "0c9fb6ba",
   "metadata": {},
   "outputs": [
    {
     "data": {
      "text/plain": [
       "0    71079\n",
       "1      123\n",
       "Name: Class, dtype: int64"
      ]
     },
     "execution_count": 49,
     "metadata": {},
     "output_type": "execute_result"
    }
   ],
   "source": [
    "y_test.value_counts()"
   ]
  },
  {
   "cell_type": "code",
   "execution_count": 26,
   "id": "4c628ff7",
   "metadata": {},
   "outputs": [
    {
     "name": "stdout",
     "output_type": "stream",
     "text": [
      "[{'model': 'Random Forest-SMOTE', 'train': 1.0, 'test': 0.9994803516755147, 'precision': 0.8909090909090909, 'recall': 0.7967479674796748, 'f1_score': 0.8412017167381975, 'ROC AUC': 0.964584979703678}]\n"
     ]
    }
   ],
   "source": [
    "# Creating a dictionary of 'results' and a 'eval_list' to be able to retrieve the metrics for model comparision\n",
    "\n",
    "results3={}\n",
    "\n",
    "eval_list3=[]\n",
    "results3['model'] = 'Random Forest-SMOTE'\n",
    "results3['train'] = rf_sm.score(X_train_smote, y_train_smote)\n",
    "results3['test'] = rf_sm.score(Xs_test, y_test)\n",
    "results3['precision'] = precision_score(y_test, preds_rf_sm)\n",
    "results3['recall'] = recall_score(y_test, preds_rf_sm)\n",
    "results3['f1_score'] = f1_score(y_test, preds_rf_sm)\n",
    "results3['ROC AUC'] = roc_auc_score(y_test, rf_sm.predict_proba(Xs_test)[:,1])\n",
    "eval_list3.append(results3)\n",
    "\n",
    "print(eval_list3)\n"
   ]
  },
  {
   "cell_type": "code",
   "execution_count": 27,
   "id": "0e8dd9a1",
   "metadata": {},
   "outputs": [
    {
     "data": {
      "text/plain": [
       "Text(0.5, 1.0, 'Precision Recall Curve')"
      ]
     },
     "execution_count": 27,
     "metadata": {},
     "output_type": "execute_result"
    },
    {
     "data": {
      "image/png": "[encoded data removed]",
      "text/plain": [
       "<Figure size 432x288 with 1 Axes>"
      ]
     },
     "metadata": {
      "needs_background": "light"
     },
     "output_type": "display_data"
    }
   ],
   "source": [
    "# Precision Recall Curve Random Forest\n",
    "\n",
    "y_pred_prob = rf_sm.predict_proba(Xs_test)[:,1]\n",
    "precision, recall, thresholds = precision_recall_curve(y_test, y_pred_prob)\n",
    "plt.plot(precision, recall)\n",
    "plt.xlabel('Recall')\n",
    "plt.ylabel('Precision')\n",
    "plt.title('Precision Recall Curve')\n"
   ]
  },
  {
   "cell_type": "markdown",
   "id": "b65df398",
   "metadata": {},
   "source": [
    "---\n",
    "## Bagging Classifier with SMOTE"
   ]
  },
  {
   "cell_type": "code",
   "execution_count": 53,
   "id": "913d589e",
   "metadata": {},
   "outputs": [
    {
     "name": "stdout",
     "output_type": "stream",
     "text": [
      "Model training score(Smote):  0.9999742069819355\n",
      "Model testing score(Smote):  0.9985112777730962\n",
      " Recall: 0.7723577235772358\n",
      " Precision: 0.5491329479768786\n",
      "TN:  71001\n",
      "FP:  78\n",
      "FN:  28\n",
      "TP:  95\n",
      "CPU times: user 4min 58s, sys: 2.87 s, total: 5min 1s\n",
      "Wall time: 6min\n"
     ]
    },
    {
     "data": {
      "image/png": "[encoded data removed]",
      "text/plain": [
       "<Figure size 432x288 with 2 Axes>"
      ]
     },
     "metadata": {
      "needs_background": "light"
     },
     "output_type": "display_data"
    }
   ],
   "source": [
    "%%time\n",
    "# instantiate Bagging Classifier\n",
    "\n",
    "bc_sm = BaggingClassifier()\n",
    "bc_sm.fit(X_train_smote, y_train_smote)\n",
    "\n",
    "print(\"Model training score(Smote): \", bc_sm.score(X_train_smote, y_train_smote))\n",
    "print(\"Model testing score(Smote): \", bc_sm.score(Xs_test, y_test))\n",
    "\n",
    "# Get Predictions and Evaluate \n",
    "\n",
    "preds_bc_sm = bc_sm.predict(Xs_test)\n",
    "\n",
    "evaluation(Xs_test, y_test, preds_bc_sm, bc_sm)\n"
   ]
  },
  {
   "cell_type": "code",
   "execution_count": 29,
   "id": "ec28b1f2",
   "metadata": {},
   "outputs": [
    {
     "name": "stdout",
     "output_type": "stream",
     "text": [
      "[{'model': 'Bagging Classifier-SMOTE', 'train': 0.9999906207207038, 'test': 0.9986798123648212, 'precision': 0.5911949685534591, 'recall': 0.7642276422764228, 'f1_score': 0.6666666666666666, 'ROC AUC': 0.9127855219378598}]\n"
     ]
    }
   ],
   "source": [
    "# Creating a dictionary of 'results' and a 'eval_list' to be able to retrieve the metrics for model comparision\n",
    "\n",
    "results4={}\n",
    "\n",
    "eval_list4=[]\n",
    "results4['model'] = 'Bagging Classifier-SMOTE'\n",
    "results4['train'] = bc_sm.score(X_train_smote, y_train_smote)\n",
    "results4['test'] = bc_sm.score(Xs_test, y_test)\n",
    "results4['precision'] = precision_score(y_test, preds_bc_sm)\n",
    "results4['recall'] = recall_score(y_test, preds_bc_sm)\n",
    "results4['f1_score'] = f1_score(y_test, preds_bc_sm)\n",
    "results4['ROC AUC'] = roc_auc_score(y_test, bc_sm.predict_proba(Xs_test)[:,1])\n",
    "eval_list4.append(results4)\n",
    "\n",
    "print(eval_list4)\n"
   ]
  },
  {
   "cell_type": "code",
   "execution_count": 30,
   "id": "c06da34c",
   "metadata": {},
   "outputs": [
    {
     "data": {
      "text/plain": [
       "Text(0.5, 1.0, 'Precision Recall Curve')"
      ]
     },
     "execution_count": 30,
     "metadata": {},
     "output_type": "execute_result"
    },
    {
     "data": {
      "image/png": "[encoded data removed]",
      "text/plain": [
       "<Figure size 432x288 with 1 Axes>"
      ]
     },
     "metadata": {
      "needs_background": "light"
     },
     "output_type": "display_data"
    }
   ],
   "source": [
    "# Precision Recall Curve Bagging CLassifier\n",
    "\n",
    "y_pred_prob = bc_sm.predict_proba(Xs_test)[:,1]\n",
    "precision, recall, thresholds = precision_recall_curve(y_test, y_pred_prob)\n",
    "plt.plot(precision, recall)\n",
    "plt.xlabel('Recall')\n",
    "plt.ylabel('Precision')\n",
    "plt.title('Precision Recall Curve')\n"
   ]
  },
  {
   "cell_type": "markdown",
   "id": "39f06d21",
   "metadata": {},
   "source": [
    "---\n",
    "## Support Vector Machines with SMOTE"
   ]
  },
  {
   "cell_type": "code",
   "execution_count": 54,
   "id": "ee098089",
   "metadata": {},
   "outputs": [
    {
     "name": "stdout",
     "output_type": "stream",
     "text": [
      "Model training score(Smote):  0.9817830947869965\n",
      "Model testing score(Smote):  0.9845931294064774\n",
      " Recall: 0.8292682926829268\n",
      " Precision: 0.0865874363327674\n",
      "TN:  70003\n",
      "FP:  1076\n",
      "FN:  21\n",
      "TP:  102\n",
      "CPU times: user 1h 26min 11s, sys: 46.2 s, total: 1h 26min 57s\n",
      "Wall time: 1h 42min 29s\n"
     ]
    },
    {
     "data": {
      "image/png": "[encoded data removed]",
      "text/plain": [
       "<Figure size 432x288 with 2 Axes>"
      ]
     },
     "metadata": {
      "needs_background": "light"
     },
     "output_type": "display_data"
    }
   ],
   "source": [
    "%%time\n",
    "# instantiate Bagging Classifier\n",
    "\n",
    "svc_sm = SVC(kernel='rbf', gamma='scale', C=1.0)\n",
    "svc_sm.fit(X_train_smote, y_train_smote)\n",
    "\n",
    "print(\"Model training score(Smote): \", svc_sm.score(X_train_smote, y_train_smote))\n",
    "print(\"Model testing score(Smote): \", svc_sm.score(Xs_test, y_test))\n",
    "\n",
    "# Get Predictions and Evaluate \n",
    "\n",
    "preds_svc_sm = svc_sm.predict(Xs_test)\n",
    "\n",
    "evaluation(Xs_test, y_test, preds_svc_sm, svc_sm)\n"
   ]
  },
  {
   "cell_type": "code",
   "execution_count": 32,
   "id": "46e21e85",
   "metadata": {},
   "outputs": [
    {
     "name": "stdout",
     "output_type": "stream",
     "text": [
      "[{'model': 'Support Vector-SMOTE', 'train': 0.9817830947869965, 'test': 0.9845931294064774, 'precision': 0.0865874363327674, 'recall': 0.8292682926829268, 'f1_score': 0.1568024596464258, 'ROC AUC': 0.9070651034455307}]\n"
     ]
    }
   ],
   "source": [
    "# Creating a dictionary of 'results' and a 'eval_list' to be able to retrieve the metrics for model comparision\n",
    "\n",
    "results5={}\n",
    "\n",
    "eval_list5=[]\n",
    "results5['model'] = 'Support Vector-SMOTE'\n",
    "results5['train'] = svc_sm.score(X_train_smote, y_train_smote)\n",
    "results5['test'] = svc_sm.score(Xs_test, y_test)\n",
    "results5['precision'] = precision_score(y_test, preds_svc_sm)\n",
    "results5['recall'] = recall_score(y_test, preds_svc_sm)\n",
    "results5['f1_score'] = f1_score(y_test, preds_svc_sm)\n",
    "recall, precision, thresholds = roc_curve(y_test, preds_svc_sm)\n",
    "results5['ROC AUC'] = auc(recall, precision)\n",
    "eval_list5.append(results5)\n",
    "\n",
    "print(eval_list5)\n",
    "\n",
    "\n"
   ]
  },
  {
   "cell_type": "code",
   "execution_count": 34,
   "id": "493bc1c7",
   "metadata": {},
   "outputs": [
    {
     "data": {
      "image/png": "[encoded data removed]",
      "text/plain": [
       "<Figure size 432x288 with 1 Axes>"
      ]
     },
     "metadata": {
      "needs_background": "light"
     },
     "output_type": "display_data"
    }
   ],
   "source": [
    "# recall1, precision1, tr_thresholds1 = roc_curve(y_train, y_train_pred)\n",
    "recall, precision, thresholds = roc_curve(y_test, preds_svc_sm)\n",
    "\n",
    "plt.grid()\n",
    "\n",
    "# plt.plot(recall1, precision1, label=\" AUC TRAIN =\"+str(auc(recall1, precision1)))\n",
    "plt.plot(recall, precision, label=\" AUC TEST =\"+str(auc(recall, precision)))\n",
    "plt.plot([0,1],[0,1],'g--')\n",
    "plt.legend()\n",
    "plt.xlabel(\"False Positive Rate\")\n",
    "plt.ylabel(\"True Positive Rate\")\n",
    "plt.title(\"AUC(ROC curve)\")\n",
    "plt.grid(color='black', linestyle='-', linewidth=0.5)\n",
    "plt.show()"
   ]
  },
  {
   "cell_type": "markdown",
   "id": "d4837313",
   "metadata": {},
   "source": [
    "---\n",
    "## Neural Network"
   ]
  },
  {
   "cell_type": "code",
   "execution_count": 35,
   "id": "b4eb2058",
   "metadata": {},
   "outputs": [
    {
     "name": "stdout",
     "output_type": "stream",
     "text": [
      "30\n"
     ]
    }
   ],
   "source": [
    "from keras.models import Sequential\n",
    "from keras.layers import Dense, Dropout\n",
    "\n",
    "n_inputs = X_train_smote.shape[1]\n",
    "print(n_inputs)"
   ]
  },
  {
   "cell_type": "code",
   "execution_count": 55,
   "id": "9f7db83f",
   "metadata": {
    "scrolled": true
   },
   "outputs": [
    {
     "name": "stdout",
     "output_type": "stream",
     "text": [
      "Epoch 1/20\n",
      "1666/1666 - 4s - loss: 0.0801 - accuracy: 0.9684 - val_loss: 0.0334 - val_accuracy: 0.9890\n",
      "Epoch 2/20\n",
      "1666/1666 - 2s - loss: 0.0156 - accuracy: 0.9964 - val_loss: 0.0176 - val_accuracy: 0.9950\n",
      "Epoch 3/20\n",
      "1666/1666 - 4s - loss: 0.0080 - accuracy: 0.9983 - val_loss: 0.0161 - val_accuracy: 0.9962\n",
      "Epoch 4/20\n",
      "1666/1666 - 2s - loss: 0.0053 - accuracy: 0.9989 - val_loss: 0.0154 - val_accuracy: 0.9970\n",
      "Epoch 5/20\n",
      "1666/1666 - 4s - loss: 0.0040 - accuracy: 0.9991 - val_loss: 0.0147 - val_accuracy: 0.9978\n",
      "Epoch 6/20\n",
      "1666/1666 - 4s - loss: 0.0032 - accuracy: 0.9993 - val_loss: 0.0147 - val_accuracy: 0.9979\n",
      "Epoch 7/20\n",
      "1666/1666 - 3s - loss: 0.0028 - accuracy: 0.9994 - val_loss: 0.0142 - val_accuracy: 0.9984\n",
      "Epoch 8/20\n",
      "1666/1666 - 2s - loss: 0.0026 - accuracy: 0.9995 - val_loss: 0.0135 - val_accuracy: 0.9984\n",
      "Epoch 9/20\n",
      "1666/1666 - 2s - loss: 0.0020 - accuracy: 0.9996 - val_loss: 0.0149 - val_accuracy: 0.9985\n",
      "Epoch 10/20\n",
      "1666/1666 - 2s - loss: 0.0018 - accuracy: 0.9996 - val_loss: 0.0164 - val_accuracy: 0.9984\n",
      "Epoch 11/20\n",
      "1666/1666 - 2s - loss: 0.0018 - accuracy: 0.9996 - val_loss: 0.0151 - val_accuracy: 0.9987\n",
      "Epoch 12/20\n",
      "1666/1666 - 3s - loss: 0.0016 - accuracy: 0.9997 - val_loss: 0.0151 - val_accuracy: 0.9989\n",
      "Epoch 13/20\n",
      "1666/1666 - 6s - loss: 0.0014 - accuracy: 0.9997 - val_loss: 0.0169 - val_accuracy: 0.9988\n",
      "Epoch 14/20\n",
      "1666/1666 - 6s - loss: 0.0013 - accuracy: 0.9997 - val_loss: 0.0165 - val_accuracy: 0.9990\n",
      "Epoch 15/20\n",
      "1666/1666 - 3s - loss: 0.0014 - accuracy: 0.9997 - val_loss: 0.0171 - val_accuracy: 0.9989\n",
      "Epoch 16/20\n",
      "1666/1666 - 3s - loss: 0.0012 - accuracy: 0.9997 - val_loss: 0.0171 - val_accuracy: 0.9989\n",
      "Epoch 17/20\n",
      "1666/1666 - 3s - loss: 0.0010 - accuracy: 0.9998 - val_loss: 0.0201 - val_accuracy: 0.9985\n",
      "Epoch 18/20\n",
      "1666/1666 - 2s - loss: 0.0010 - accuracy: 0.9998 - val_loss: 0.0192 - val_accuracy: 0.9988\n",
      "Epoch 19/20\n",
      "1666/1666 - 2s - loss: 0.0012 - accuracy: 0.9998 - val_loss: 0.0188 - val_accuracy: 0.9989\n",
      "Epoch 20/20\n",
      "1666/1666 - 2s - loss: 8.5329e-04 - accuracy: 0.9998 - val_loss: 0.0212 - val_accuracy: 0.9986\n",
      "CPU times: user 1min 2s, sys: 9.56 s, total: 1min 11s\n",
      "Wall time: 1min 4s\n"
     ]
    }
   ],
   "source": [
    "%%time\n",
    "model = Sequential()\n",
    "#input layer\n",
    "model.add(Dense(n_inputs, \n",
    "               input_shape = (n_inputs,), \n",
    "               activation = 'relu'))\n",
    "\n",
    "#hidden layer\n",
    "model.add(Dense(10, activation = 'relu'))\n",
    "\n",
    "# output layer\n",
    "model.add(Dense(1, activation = 'sigmoid'))\n",
    "\n",
    "model.compile(loss = 'binary_crossentropy', optimizer = 'adam', metrics = ['accuracy'])\n",
    "\n",
    "# Fit model\n",
    "\n",
    "history = model.fit(X_train_smote, y_train_smote, \n",
    "                    validation_data = (Xs_test, y_test), \n",
    "                    batch_size=256, epochs=20, verbose=2)"
   ]
  },
  {
   "cell_type": "markdown",
   "id": "37c8cd47",
   "metadata": {},
   "source": [
    "### Check NN Model accuracy"
   ]
  },
  {
   "cell_type": "code",
   "execution_count": 37,
   "id": "111439e0",
   "metadata": {},
   "outputs": [
    {
     "name": "stderr",
     "output_type": "stream",
     "text": [
      "<ipython-input-37-f666a15e35a2>:21: MatplotlibDeprecationWarning: Passing the minor parameter of set_ticks() positionally is deprecated since Matplotlib 3.2; the parameter will become keyword-only two minor releases later.\n",
      "  ax.set_xticks(epoch_labels, epoch_labels)    # ticks, labels\n"
     ]
    },
    {
     "data": {
      "image/png": "[encoded data removed]",
      "text/plain": [
       "<Figure size 864x576 with 2 Axes>"
      ]
     },
     "metadata": {
      "needs_background": "light"
     },
     "output_type": "display_data"
    },
    {
     "data": {
      "text/plain": [
       "<Figure size 864x576 with 0 Axes>"
      ]
     },
     "metadata": {},
     "output_type": "display_data"
    }
   ],
   "source": [
    "# create figure and axis objects with subplots()\n",
    "fig,ax = plt.subplots(figsize=(12, 8))\n",
    "\n",
    "\n",
    "# Check out our train loss and test loss over epochs.\n",
    "train_loss = history.history['loss']\n",
    "test_loss = history.history['val_loss']\n",
    "epoch_labels = history.epoch\n",
    "\n",
    "# Set figure size.\n",
    "plt.figure(figsize=(12, 8))\n",
    "\n",
    "# Generate line plot of training, testing loss over epochs.\n",
    "ax.plot(train_loss, label='Training Loss', color='g')\n",
    "ax.plot(test_loss, label='Testing Loss', color='orange')\n",
    "\n",
    "# Set title\n",
    "#plt.title('Training and Testing Loss by Epoch', fontsize=25)\n",
    "ax.set_xlabel('Epoch', fontsize=18)\n",
    "ax.set_ylabel('Categorical Crossentropy', fontsize=18)\n",
    "ax.set_xticks(epoch_labels, epoch_labels)    # ticks, labels\n",
    "ax.legend(fontsize=18, bbox_to_anchor=(-0.1, 1), loc='upper right', ncol=1)\n",
    "\n",
    "\n",
    "\n",
    "ax2=ax.twinx();\n",
    "ax2.plot(history.history['accuracy'], label= 'Training Accuracy', color='b')\n",
    "ax2.plot(history.history['val_accuracy'], label= 'Test Accuracy', color='r')\n",
    "ax2.set_ylabel('Accuracy', fontsize=18)\n",
    "ax2.legend(fontsize=18, bbox_to_anchor=(1.5, 1), loc='upper right', ncol=1);"
   ]
  },
  {
   "cell_type": "code",
   "execution_count": 38,
   "id": "a4c18726",
   "metadata": {
    "scrolled": true
   },
   "outputs": [
    {
     "data": {
      "text/plain": [
       "<AxesSubplot:>"
      ]
     },
     "execution_count": 38,
     "metadata": {},
     "output_type": "execute_result"
    },
    {
     "data": {
      "image/png": "[encoded data removed]",
      "text/plain": [
       "<Figure size 432x288 with 1 Axes>"
      ]
     },
     "metadata": {
      "needs_background": "light"
     },
     "output_type": "display_data"
    }
   ],
   "source": [
    "model_loss = pd.DataFrame(model.history.history)\n",
    "model_loss.plot()"
   ]
  },
  {
   "cell_type": "code",
   "execution_count": 48,
   "id": "80ff4b67",
   "metadata": {},
   "outputs": [
    {
     "name": "stdout",
     "output_type": "stream",
     "text": [
      "2226/2226 [==============================] - 2s 842us/step - loss: 0.0268 - accuracy: 0.9988\n",
      "[0.026814108714461327, 0.9988202452659607]\n",
      "Model train accuracy =  0.9988202452659607\n"
     ]
    }
   ],
   "source": [
    "score = model.evaluate(Xs_test, y_test, verbose = 1)\n",
    "labels = model.metrics_names\n",
    "print(score)\n",
    "\n",
    "\n",
    "\n",
    "print(\"Model train accuracy = \", score[1])"
   ]
  },
  {
   "cell_type": "code",
   "execution_count": 40,
   "id": "5377f522",
   "metadata": {},
   "outputs": [
    {
     "name": "stdout",
     "output_type": "stream",
     "text": [
      "Model: \"sequential\"\n",
      "_________________________________________________________________\n",
      "Layer (type)                 Output Shape              Param #   \n",
      "=================================================================\n",
      "dense (Dense)                (None, 30)                930       \n",
      "_________________________________________________________________\n",
      "dense_1 (Dense)              (None, 10)                310       \n",
      "_________________________________________________________________\n",
      "dense_2 (Dense)              (None, 1)                 11        \n",
      "=================================================================\n",
      "Total params: 1,251\n",
      "Trainable params: 1,251\n",
      "Non-trainable params: 0\n",
      "_________________________________________________________________\n"
     ]
    }
   ],
   "source": [
    "model.summary()"
   ]
  },
  {
   "cell_type": "code",
   "execution_count": 41,
   "id": "e27a07b9",
   "metadata": {
    "scrolled": true
   },
   "outputs": [
    {
     "name": "stdout",
     "output_type": "stream",
     "text": [
      "Evaluation of Neural Network Model After SMOTE\n",
      "============================================================\n",
      "              precision    recall  f1-score   support\n",
      "\n",
      "           0       1.00      1.00      1.00     71079\n",
      "           1       0.63      0.79      0.70       123\n",
      "\n",
      "    accuracy                           1.00     71202\n",
      "   macro avg       0.81      0.89      0.85     71202\n",
      "weighted avg       1.00      1.00      1.00     71202\n",
      "\n",
      "============================================================\n"
     ]
    }
   ],
   "source": [
    "y_pred= model.predict(Xs_test)\n",
    "print('Evaluation of Neural Network Model After SMOTE')\n",
    "print(\"============================================================\")\n",
    "\n",
    "print(classification_report(y_test, np.round(abs(y_pred))))\n",
    "print(\"============================================================\")\n"
   ]
  },
  {
   "cell_type": "code",
   "execution_count": 42,
   "id": "19f3cc00",
   "metadata": {},
   "outputs": [
    {
     "name": "stdout",
     "output_type": "stream",
     "text": [
      "0.9988202452659607\n",
      "0.9998475909233093\n",
      "[{'model': 'Neural Network-SMOTE', 'train': 0.9998475909233093, 'test': 0.9988202452659607, 'precision': 0.6258064516129033, 'recall': 0.7886178861788617, 'f1_score': 0.697841726618705, 'ROC AUC': 0.8939009463534048}]\n"
     ]
    }
   ],
   "source": [
    "results6={}\n",
    "_, train_acc = model.evaluate(X_train_smote, y_train_smote, verbose=0)\n",
    "_, test_acc = model.evaluate(Xs_test, y_test, verbose=0)\n",
    "print(test_acc)\n",
    "print(train_acc)\n",
    "eval_list6=[]\n",
    "results6['model'] = 'Neural Network-SMOTE'\n",
    "results6['train'] = train_acc\n",
    "results6['test'] = test_acc\n",
    "results6['precision'] = precision_score(y_test, np.round(abs(y_pred)))\n",
    "results6['recall'] = recall_score(y_test, np.round(abs(y_pred)))\n",
    "results6['f1_score'] = f1_score(y_test, np.round(abs(y_pred)))\n",
    "results6['ROC AUC'] = roc_auc_score(y_test, np.round(abs(y_pred)))\n",
    "eval_list6.append(results6)\n",
    "\n",
    "print(eval_list6)"
   ]
  },
  {
   "cell_type": "markdown",
   "id": "ed657444",
   "metadata": {},
   "source": [
    "---\n",
    "## Results and Conclusion"
   ]
  },
  {
   "cell_type": "code",
   "execution_count": 43,
   "id": "e174d2c8",
   "metadata": {},
   "outputs": [
    {
     "name": "stdout",
     "output_type": "stream",
     "text": [
      "                      model     train      test  precision    recall  \\\n",
      "1  LogisticRegression-SMOTE  0.955376  0.975478   0.059207  0.886179   \n",
      "4      Support Vector-SMOTE  0.981783  0.984593   0.086587  0.829268   \n",
      "3  Bagging Classifier-SMOTE  0.999991  0.998680   0.591195  0.764228   \n",
      "5      Neural Network-SMOTE  0.999848  0.998820   0.625806  0.788618   \n",
      "0        LogisticRegression  0.999246  0.999157   0.846154  0.626016   \n",
      "2       Random Forest-SMOTE  1.000000  0.999480   0.890909  0.796748   \n",
      "\n",
      "   f1_score   ROC AUC  \n",
      "1  0.110998  0.027578  \n",
      "4  0.156802  0.907065  \n",
      "3  0.666667  0.912786  \n",
      "5  0.697842  0.893901  \n",
      "0  0.719626  0.042123  \n",
      "2  0.841202  0.964585  \n"
     ]
    },
    {
     "data": {
      "text/html": [
       "<div>\n",
       "<style scoped>\n",
       "    .dataframe tbody tr th:only-of-type {\n",
       "        vertical-align: middle;\n",
       "    }\n",
       "\n",
       "    .dataframe tbody tr th {\n",
       "        vertical-align: top;\n",
       "    }\n",
       "\n",
       "    .dataframe thead th {\n",
       "        text-align: right;\n",
       "    }\n",
       "</style>\n",
       "<table border=\"1\" class=\"dataframe\">\n",
       "  <thead>\n",
       "    <tr style=\"text-align: right;\">\n",
       "      <th></th>\n",
       "      <th>model</th>\n",
       "      <th>train</th>\n",
       "      <th>test</th>\n",
       "      <th>precision</th>\n",
       "      <th>recall</th>\n",
       "      <th>f1_score</th>\n",
       "      <th>ROC AUC</th>\n",
       "    </tr>\n",
       "  </thead>\n",
       "  <tbody>\n",
       "    <tr>\n",
       "      <th>0</th>\n",
       "      <td>LogisticRegression</td>\n",
       "      <td>0.999246</td>\n",
       "      <td>0.999157</td>\n",
       "      <td>0.846154</td>\n",
       "      <td>0.626016</td>\n",
       "      <td>0.719626</td>\n",
       "      <td>0.042123</td>\n",
       "    </tr>\n",
       "    <tr>\n",
       "      <th>1</th>\n",
       "      <td>LogisticRegression-SMOTE</td>\n",
       "      <td>0.955376</td>\n",
       "      <td>0.975478</td>\n",
       "      <td>0.059207</td>\n",
       "      <td>0.886179</td>\n",
       "      <td>0.110998</td>\n",
       "      <td>0.027578</td>\n",
       "    </tr>\n",
       "    <tr>\n",
       "      <th>2</th>\n",
       "      <td>Random Forest-SMOTE</td>\n",
       "      <td>1.000000</td>\n",
       "      <td>0.999480</td>\n",
       "      <td>0.890909</td>\n",
       "      <td>0.796748</td>\n",
       "      <td>0.841202</td>\n",
       "      <td>0.964585</td>\n",
       "    </tr>\n",
       "    <tr>\n",
       "      <th>3</th>\n",
       "      <td>Bagging Classifier-SMOTE</td>\n",
       "      <td>0.999991</td>\n",
       "      <td>0.998680</td>\n",
       "      <td>0.591195</td>\n",
       "      <td>0.764228</td>\n",
       "      <td>0.666667</td>\n",
       "      <td>0.912786</td>\n",
       "    </tr>\n",
       "    <tr>\n",
       "      <th>4</th>\n",
       "      <td>Support Vector-SMOTE</td>\n",
       "      <td>0.981783</td>\n",
       "      <td>0.984593</td>\n",
       "      <td>0.086587</td>\n",
       "      <td>0.829268</td>\n",
       "      <td>0.156802</td>\n",
       "      <td>0.907065</td>\n",
       "    </tr>\n",
       "    <tr>\n",
       "      <th>5</th>\n",
       "      <td>Neural Network-SMOTE</td>\n",
       "      <td>0.999848</td>\n",
       "      <td>0.998820</td>\n",
       "      <td>0.625806</td>\n",
       "      <td>0.788618</td>\n",
       "      <td>0.697842</td>\n",
       "      <td>0.893901</td>\n",
       "    </tr>\n",
       "  </tbody>\n",
       "</table>\n",
       "</div>"
      ],
      "text/plain": [
       "                      model     train      test  precision    recall  \\\n",
       "0        LogisticRegression  0.999246  0.999157   0.846154  0.626016   \n",
       "1  LogisticRegression-SMOTE  0.955376  0.975478   0.059207  0.886179   \n",
       "2       Random Forest-SMOTE  1.000000  0.999480   0.890909  0.796748   \n",
       "3  Bagging Classifier-SMOTE  0.999991  0.998680   0.591195  0.764228   \n",
       "4      Support Vector-SMOTE  0.981783  0.984593   0.086587  0.829268   \n",
       "5      Neural Network-SMOTE  0.999848  0.998820   0.625806  0.788618   \n",
       "\n",
       "   f1_score   ROC AUC  \n",
       "0  0.719626  0.042123  \n",
       "1  0.110998  0.027578  \n",
       "2  0.841202  0.964585  \n",
       "3  0.666667  0.912786  \n",
       "4  0.156802  0.907065  \n",
       "5  0.697842  0.893901  "
      ]
     },
     "execution_count": 43,
     "metadata": {},
     "output_type": "execute_result"
    }
   ],
   "source": [
    "eval_list=[]\n",
    "\n",
    "eval_list.append(results1)\n",
    "eval_list.append(results2)\n",
    "eval_list.append(results3)\n",
    "eval_list.append(results4)\n",
    "eval_list.append(results5)\n",
    "eval_list.append(results6)\n",
    "\n",
    "eval_df= pd.DataFrame(eval_list).sort_values(by='test', ascending = True)\n",
    "print(eval_df)\n",
    "eval_df= pd.DataFrame(eval_list)\n",
    "eval_df"
   ]
  },
  {
   "cell_type": "markdown",
   "id": "d7686675",
   "metadata": {},
   "source": [
    "### Metrics chosen\n",
    "Chose these metrics because they represent model accuracy in different ways.\n",
    "\n",
    "- Accuracy is overall how many predictions were correct\n",
    "- Specificity/Precision/True negative rate/Negative Predictive Value: is how many negative predictions are correct (Non_Fraud)\n",
    "- Sensitivity/Recall/True Positive rate/Positive Predictive value: is how many positive predictions are correct (Fraud)\n",
    "- F1 Score is the harmonic mean of specificity and sensitivity & is another accuracy measurement."
   ]
  },
  {
   "cell_type": "markdown",
   "id": "f7399567",
   "metadata": {},
   "source": [
    "## Conclusions\n",
    "\n",
    "Various models were run on credit card fraud dataset and accuracy of analytical model is evaluated with help of\n",
    "confusion matrix. The confusion matrix tells how the tuples in training and testing models are correctly classified.\n",
    "The models are evaluated based on parameters such as precession, recall, accuracy and F1 score. \n",
    "The metrics used to compare performance are accuracy, recall and precision. More emphasize will be given on recall in order to capture as many fraudulent cases as possible. The only catch here is the data that we have received for model training. The data features are the transformed version of PCA. If the actual features follow a similar pattern then we are doing great!!<br>\n",
    "Since test data is highly imbalanced we cannot look only at the accuracy scores.Recall and ROC AUC scores are important. **Random forest gave better recall (80%) and ROC AUC (96%) scores** compared to the other models. The model predicted that **25 fraudulent transactions were not fraud and predicted 12 cases were fraud when they were not fraudulent.**\n",
    "<br>\n",
    "The credit card fraud detection is becoming important topic of research, as different types of attacks are increasing\n",
    "at an alarming rate. In this notebook we have proposed a robust framework to process large volume of data, the\n",
    "functionality of framework can be extended to extract real time data from different desperate sources. The extracted\n",
    "data is then used to build strong analytical model. These analytical models are run on credit card dataset and\n",
    "accuracy of analytical model is evaluated with help of confusion matrix. Among the five models, random forest performs best in terms of accuracy, precision and recall. To complete the training cycle, the model parameters could be optimized — as for all classification solutions. We have omitted this part in this project, but it could easily be introduced. For a random forest, this means finding the optimal number of trees and tree depth for the best classification performance.\n"
   ]
  },
  {
   "cell_type": "markdown",
   "id": "2bf78bca",
   "metadata": {},
   "source": [
    "***\n"
   ]
  }
 ],
 "metadata": {
  "kernelspec": {
   "display_name": "Python 3",
   "language": "python",
   "name": "python3"
  },
  "language_info": {
   "codemirror_mode": {
    "name": "ipython",
    "version": 3
   },
   "file_extension": ".py",
   "mimetype": "text/x-python",
   "name": "python",
   "nbconvert_exporter": "python",
   "pygments_lexer": "ipython3",
   "version": "3.8.8"
  }
 },
 "nbformat": 4,
 "nbformat_minor": 5
}
