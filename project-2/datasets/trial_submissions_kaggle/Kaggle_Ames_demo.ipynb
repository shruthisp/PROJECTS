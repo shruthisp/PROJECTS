{
 "cells": [
  {
   "cell_type": "code",
   "execution_count": 2,
   "id": "9b6b1233",
   "metadata": {},
   "outputs": [],
   "source": [
    "import pandas as pd\n",
    "import numpy as np\n",
    "import matplotlib.pyplot as plt\n",
    "from sklearn.linear_model import LinearRegression\n",
    "from sklearn.model_selection import train_test_split\n",
    "from sklearn.model_selection import KFold\n",
    "from sklearn.model_selection import cross_val_score"
   ]
  },
  {
   "cell_type": "code",
   "execution_count": 3,
   "id": "096ba182",
   "metadata": {},
   "outputs": [],
   "source": [
    "train = pd.read_csv('datasets/train.csv')\n",
    "test = pd.read_csv('datasets/test.csv')"
   ]
  },
  {
   "cell_type": "code",
   "execution_count": 4,
   "id": "b520f6d1",
   "metadata": {},
   "outputs": [
    {
     "data": {
      "text/plain": [
       "((2051, 81), (878, 80))"
      ]
     },
     "execution_count": 4,
     "metadata": {},
     "output_type": "execute_result"
    }
   ],
   "source": [
    "train.shape, test.shape"
   ]
  },
  {
   "cell_type": "code",
   "execution_count": 5,
   "id": "b3d1f77f",
   "metadata": {},
   "outputs": [
    {
     "data": {
      "text/plain": [
       "Index(['Id', 'PID', 'MS SubClass', 'MS Zoning', 'Lot Frontage', 'Lot Area',\n",
       "       'Street', 'Alley', 'Lot Shape', 'Land Contour', 'Utilities',\n",
       "       'Lot Config', 'Land Slope', 'Neighborhood', 'Condition 1',\n",
       "       'Condition 2', 'Bldg Type', 'House Style', 'Overall Qual',\n",
       "       'Overall Cond', 'Year Built', 'Year Remod/Add', 'Roof Style',\n",
       "       'Roof Matl', 'Exterior 1st', 'Exterior 2nd', 'Mas Vnr Type',\n",
       "       'Mas Vnr Area', 'Exter Qual', 'Exter Cond', 'Foundation', 'Bsmt Qual',\n",
       "       'Bsmt Cond', 'Bsmt Exposure', 'BsmtFin Type 1', 'BsmtFin SF 1',\n",
       "       'BsmtFin Type 2', 'BsmtFin SF 2', 'Bsmt Unf SF', 'Total Bsmt SF',\n",
       "       'Heating', 'Heating QC', 'Central Air', 'Electrical', '1st Flr SF',\n",
       "       '2nd Flr SF', 'Low Qual Fin SF', 'Gr Liv Area', 'Bsmt Full Bath',\n",
       "       'Bsmt Half Bath', 'Full Bath', 'Half Bath', 'Bedroom AbvGr',\n",
       "       'Kitchen AbvGr', 'Kitchen Qual', 'TotRms AbvGrd', 'Functional',\n",
       "       'Fireplaces', 'Fireplace Qu', 'Garage Type', 'Garage Yr Blt',\n",
       "       'Garage Finish', 'Garage Cars', 'Garage Area', 'Garage Qual',\n",
       "       'Garage Cond', 'Paved Drive', 'Wood Deck SF', 'Open Porch SF',\n",
       "       'Enclosed Porch', '3Ssn Porch', 'Screen Porch', 'Pool Area', 'Pool QC',\n",
       "       'Fence', 'Misc Feature', 'Misc Val', 'Mo Sold', 'Yr Sold', 'Sale Type',\n",
       "       'SalePrice'],\n",
       "      dtype='object')"
      ]
     },
     "execution_count": 5,
     "metadata": {},
     "output_type": "execute_result"
    }
   ],
   "source": [
    "train.columns"
   ]
  },
  {
   "cell_type": "code",
   "execution_count": 6,
   "id": "c77ab865",
   "metadata": {},
   "outputs": [
    {
     "data": {
      "text/plain": [
       "28"
      ]
     },
     "execution_count": 6,
     "metadata": {},
     "output_type": "execute_result"
    }
   ],
   "source": [
    "len(train['Neighborhood'].unique())"
   ]
  },
  {
   "cell_type": "code",
   "execution_count": 7,
   "id": "509647c7",
   "metadata": {},
   "outputs": [
    {
     "data": {
      "text/plain": [
       "26"
      ]
     },
     "execution_count": 7,
     "metadata": {},
     "output_type": "execute_result"
    }
   ],
   "source": [
    "len(test['Neighborhood'].unique())"
   ]
  },
  {
   "cell_type": "code",
   "execution_count": 8,
   "id": "9edb37a8",
   "metadata": {},
   "outputs": [
    {
     "data": {
      "text/html": [
       "<div>\n",
       "<style scoped>\n",
       "    .dataframe tbody tr th:only-of-type {\n",
       "        vertical-align: middle;\n",
       "    }\n",
       "\n",
       "    .dataframe tbody tr th {\n",
       "        vertical-align: top;\n",
       "    }\n",
       "\n",
       "    .dataframe thead th {\n",
       "        text-align: right;\n",
       "    }\n",
       "</style>\n",
       "<table border=\"1\" class=\"dataframe\">\n",
       "  <thead>\n",
       "    <tr style=\"text-align: right;\">\n",
       "      <th></th>\n",
       "      <th>Id</th>\n",
       "      <th>PID</th>\n",
       "      <th>MS SubClass</th>\n",
       "      <th>MS Zoning</th>\n",
       "      <th>Lot Frontage</th>\n",
       "      <th>Lot Area</th>\n",
       "      <th>Street</th>\n",
       "      <th>Alley</th>\n",
       "      <th>Lot Shape</th>\n",
       "      <th>Land Contour</th>\n",
       "      <th>...</th>\n",
       "      <th>Screen Porch</th>\n",
       "      <th>Pool Area</th>\n",
       "      <th>Pool QC</th>\n",
       "      <th>Fence</th>\n",
       "      <th>Misc Feature</th>\n",
       "      <th>Misc Val</th>\n",
       "      <th>Mo Sold</th>\n",
       "      <th>Yr Sold</th>\n",
       "      <th>Sale Type</th>\n",
       "      <th>SalePrice</th>\n",
       "    </tr>\n",
       "  </thead>\n",
       "  <tbody>\n",
       "    <tr>\n",
       "      <th>0</th>\n",
       "      <td>109</td>\n",
       "      <td>533352170</td>\n",
       "      <td>60</td>\n",
       "      <td>RL</td>\n",
       "      <td>NaN</td>\n",
       "      <td>13517</td>\n",
       "      <td>Pave</td>\n",
       "      <td>NaN</td>\n",
       "      <td>IR1</td>\n",
       "      <td>Lvl</td>\n",
       "      <td>...</td>\n",
       "      <td>0</td>\n",
       "      <td>0</td>\n",
       "      <td>NaN</td>\n",
       "      <td>NaN</td>\n",
       "      <td>NaN</td>\n",
       "      <td>0</td>\n",
       "      <td>3</td>\n",
       "      <td>2010</td>\n",
       "      <td>WD</td>\n",
       "      <td>130500</td>\n",
       "    </tr>\n",
       "    <tr>\n",
       "      <th>1</th>\n",
       "      <td>544</td>\n",
       "      <td>531379050</td>\n",
       "      <td>60</td>\n",
       "      <td>RL</td>\n",
       "      <td>43.0</td>\n",
       "      <td>11492</td>\n",
       "      <td>Pave</td>\n",
       "      <td>NaN</td>\n",
       "      <td>IR1</td>\n",
       "      <td>Lvl</td>\n",
       "      <td>...</td>\n",
       "      <td>0</td>\n",
       "      <td>0</td>\n",
       "      <td>NaN</td>\n",
       "      <td>NaN</td>\n",
       "      <td>NaN</td>\n",
       "      <td>0</td>\n",
       "      <td>4</td>\n",
       "      <td>2009</td>\n",
       "      <td>WD</td>\n",
       "      <td>220000</td>\n",
       "    </tr>\n",
       "    <tr>\n",
       "      <th>2</th>\n",
       "      <td>153</td>\n",
       "      <td>535304180</td>\n",
       "      <td>20</td>\n",
       "      <td>RL</td>\n",
       "      <td>68.0</td>\n",
       "      <td>7922</td>\n",
       "      <td>Pave</td>\n",
       "      <td>NaN</td>\n",
       "      <td>Reg</td>\n",
       "      <td>Lvl</td>\n",
       "      <td>...</td>\n",
       "      <td>0</td>\n",
       "      <td>0</td>\n",
       "      <td>NaN</td>\n",
       "      <td>NaN</td>\n",
       "      <td>NaN</td>\n",
       "      <td>0</td>\n",
       "      <td>1</td>\n",
       "      <td>2010</td>\n",
       "      <td>WD</td>\n",
       "      <td>109000</td>\n",
       "    </tr>\n",
       "    <tr>\n",
       "      <th>3</th>\n",
       "      <td>318</td>\n",
       "      <td>916386060</td>\n",
       "      <td>60</td>\n",
       "      <td>RL</td>\n",
       "      <td>73.0</td>\n",
       "      <td>9802</td>\n",
       "      <td>Pave</td>\n",
       "      <td>NaN</td>\n",
       "      <td>Reg</td>\n",
       "      <td>Lvl</td>\n",
       "      <td>...</td>\n",
       "      <td>0</td>\n",
       "      <td>0</td>\n",
       "      <td>NaN</td>\n",
       "      <td>NaN</td>\n",
       "      <td>NaN</td>\n",
       "      <td>0</td>\n",
       "      <td>4</td>\n",
       "      <td>2010</td>\n",
       "      <td>WD</td>\n",
       "      <td>174000</td>\n",
       "    </tr>\n",
       "    <tr>\n",
       "      <th>4</th>\n",
       "      <td>255</td>\n",
       "      <td>906425045</td>\n",
       "      <td>50</td>\n",
       "      <td>RL</td>\n",
       "      <td>82.0</td>\n",
       "      <td>14235</td>\n",
       "      <td>Pave</td>\n",
       "      <td>NaN</td>\n",
       "      <td>IR1</td>\n",
       "      <td>Lvl</td>\n",
       "      <td>...</td>\n",
       "      <td>0</td>\n",
       "      <td>0</td>\n",
       "      <td>NaN</td>\n",
       "      <td>NaN</td>\n",
       "      <td>NaN</td>\n",
       "      <td>0</td>\n",
       "      <td>3</td>\n",
       "      <td>2010</td>\n",
       "      <td>WD</td>\n",
       "      <td>138500</td>\n",
       "    </tr>\n",
       "  </tbody>\n",
       "</table>\n",
       "<p>5 rows × 81 columns</p>\n",
       "</div>"
      ],
      "text/plain": [
       "    Id        PID  MS SubClass MS Zoning  Lot Frontage  Lot Area Street Alley  \\\n",
       "0  109  533352170           60        RL           NaN     13517   Pave   NaN   \n",
       "1  544  531379050           60        RL          43.0     11492   Pave   NaN   \n",
       "2  153  535304180           20        RL          68.0      7922   Pave   NaN   \n",
       "3  318  916386060           60        RL          73.0      9802   Pave   NaN   \n",
       "4  255  906425045           50        RL          82.0     14235   Pave   NaN   \n",
       "\n",
       "  Lot Shape Land Contour  ... Screen Porch Pool Area Pool QC Fence  \\\n",
       "0       IR1          Lvl  ...            0         0     NaN   NaN   \n",
       "1       IR1          Lvl  ...            0         0     NaN   NaN   \n",
       "2       Reg          Lvl  ...            0         0     NaN   NaN   \n",
       "3       Reg          Lvl  ...            0         0     NaN   NaN   \n",
       "4       IR1          Lvl  ...            0         0     NaN   NaN   \n",
       "\n",
       "  Misc Feature Misc Val Mo Sold Yr Sold  Sale Type  SalePrice  \n",
       "0          NaN        0       3    2010        WD      130500  \n",
       "1          NaN        0       4    2009        WD      220000  \n",
       "2          NaN        0       1    2010        WD      109000  \n",
       "3          NaN        0       4    2010        WD      174000  \n",
       "4          NaN        0       3    2010        WD      138500  \n",
       "\n",
       "[5 rows x 81 columns]"
      ]
     },
     "execution_count": 8,
     "metadata": {},
     "output_type": "execute_result"
    }
   ],
   "source": [
    "train.head()"
   ]
  },
  {
   "cell_type": "code",
   "execution_count": 9,
   "id": "394e5de4",
   "metadata": {},
   "outputs": [
    {
     "data": {
      "text/html": [
       "<div>\n",
       "<style scoped>\n",
       "    .dataframe tbody tr th:only-of-type {\n",
       "        vertical-align: middle;\n",
       "    }\n",
       "\n",
       "    .dataframe tbody tr th {\n",
       "        vertical-align: top;\n",
       "    }\n",
       "\n",
       "    .dataframe thead th {\n",
       "        text-align: right;\n",
       "    }\n",
       "</style>\n",
       "<table border=\"1\" class=\"dataframe\">\n",
       "  <thead>\n",
       "    <tr style=\"text-align: right;\">\n",
       "      <th></th>\n",
       "      <th>Id</th>\n",
       "      <th>PID</th>\n",
       "      <th>MS SubClass</th>\n",
       "      <th>MS Zoning</th>\n",
       "      <th>Lot Frontage</th>\n",
       "      <th>Lot Area</th>\n",
       "      <th>Street</th>\n",
       "      <th>Alley</th>\n",
       "      <th>Lot Shape</th>\n",
       "      <th>Land Contour</th>\n",
       "      <th>...</th>\n",
       "      <th>3Ssn Porch</th>\n",
       "      <th>Screen Porch</th>\n",
       "      <th>Pool Area</th>\n",
       "      <th>Pool QC</th>\n",
       "      <th>Fence</th>\n",
       "      <th>Misc Feature</th>\n",
       "      <th>Misc Val</th>\n",
       "      <th>Mo Sold</th>\n",
       "      <th>Yr Sold</th>\n",
       "      <th>Sale Type</th>\n",
       "    </tr>\n",
       "  </thead>\n",
       "  <tbody>\n",
       "    <tr>\n",
       "      <th>0</th>\n",
       "      <td>2658</td>\n",
       "      <td>902301120</td>\n",
       "      <td>190</td>\n",
       "      <td>RM</td>\n",
       "      <td>69.0</td>\n",
       "      <td>9142</td>\n",
       "      <td>Pave</td>\n",
       "      <td>Grvl</td>\n",
       "      <td>Reg</td>\n",
       "      <td>Lvl</td>\n",
       "      <td>...</td>\n",
       "      <td>0</td>\n",
       "      <td>0</td>\n",
       "      <td>0</td>\n",
       "      <td>NaN</td>\n",
       "      <td>NaN</td>\n",
       "      <td>NaN</td>\n",
       "      <td>0</td>\n",
       "      <td>4</td>\n",
       "      <td>2006</td>\n",
       "      <td>WD</td>\n",
       "    </tr>\n",
       "    <tr>\n",
       "      <th>1</th>\n",
       "      <td>2718</td>\n",
       "      <td>905108090</td>\n",
       "      <td>90</td>\n",
       "      <td>RL</td>\n",
       "      <td>NaN</td>\n",
       "      <td>9662</td>\n",
       "      <td>Pave</td>\n",
       "      <td>NaN</td>\n",
       "      <td>IR1</td>\n",
       "      <td>Lvl</td>\n",
       "      <td>...</td>\n",
       "      <td>0</td>\n",
       "      <td>0</td>\n",
       "      <td>0</td>\n",
       "      <td>NaN</td>\n",
       "      <td>NaN</td>\n",
       "      <td>NaN</td>\n",
       "      <td>0</td>\n",
       "      <td>8</td>\n",
       "      <td>2006</td>\n",
       "      <td>WD</td>\n",
       "    </tr>\n",
       "    <tr>\n",
       "      <th>2</th>\n",
       "      <td>2414</td>\n",
       "      <td>528218130</td>\n",
       "      <td>60</td>\n",
       "      <td>RL</td>\n",
       "      <td>58.0</td>\n",
       "      <td>17104</td>\n",
       "      <td>Pave</td>\n",
       "      <td>NaN</td>\n",
       "      <td>IR1</td>\n",
       "      <td>Lvl</td>\n",
       "      <td>...</td>\n",
       "      <td>0</td>\n",
       "      <td>0</td>\n",
       "      <td>0</td>\n",
       "      <td>NaN</td>\n",
       "      <td>NaN</td>\n",
       "      <td>NaN</td>\n",
       "      <td>0</td>\n",
       "      <td>9</td>\n",
       "      <td>2006</td>\n",
       "      <td>New</td>\n",
       "    </tr>\n",
       "    <tr>\n",
       "      <th>3</th>\n",
       "      <td>1989</td>\n",
       "      <td>902207150</td>\n",
       "      <td>30</td>\n",
       "      <td>RM</td>\n",
       "      <td>60.0</td>\n",
       "      <td>8520</td>\n",
       "      <td>Pave</td>\n",
       "      <td>NaN</td>\n",
       "      <td>Reg</td>\n",
       "      <td>Lvl</td>\n",
       "      <td>...</td>\n",
       "      <td>0</td>\n",
       "      <td>0</td>\n",
       "      <td>0</td>\n",
       "      <td>NaN</td>\n",
       "      <td>NaN</td>\n",
       "      <td>NaN</td>\n",
       "      <td>0</td>\n",
       "      <td>7</td>\n",
       "      <td>2007</td>\n",
       "      <td>WD</td>\n",
       "    </tr>\n",
       "    <tr>\n",
       "      <th>4</th>\n",
       "      <td>625</td>\n",
       "      <td>535105100</td>\n",
       "      <td>20</td>\n",
       "      <td>RL</td>\n",
       "      <td>NaN</td>\n",
       "      <td>9500</td>\n",
       "      <td>Pave</td>\n",
       "      <td>NaN</td>\n",
       "      <td>IR1</td>\n",
       "      <td>Lvl</td>\n",
       "      <td>...</td>\n",
       "      <td>0</td>\n",
       "      <td>185</td>\n",
       "      <td>0</td>\n",
       "      <td>NaN</td>\n",
       "      <td>NaN</td>\n",
       "      <td>NaN</td>\n",
       "      <td>0</td>\n",
       "      <td>7</td>\n",
       "      <td>2009</td>\n",
       "      <td>WD</td>\n",
       "    </tr>\n",
       "  </tbody>\n",
       "</table>\n",
       "<p>5 rows × 80 columns</p>\n",
       "</div>"
      ],
      "text/plain": [
       "     Id        PID  MS SubClass MS Zoning  Lot Frontage  Lot Area Street  \\\n",
       "0  2658  902301120          190        RM          69.0      9142   Pave   \n",
       "1  2718  905108090           90        RL           NaN      9662   Pave   \n",
       "2  2414  528218130           60        RL          58.0     17104   Pave   \n",
       "3  1989  902207150           30        RM          60.0      8520   Pave   \n",
       "4   625  535105100           20        RL           NaN      9500   Pave   \n",
       "\n",
       "  Alley Lot Shape Land Contour  ... 3Ssn Porch Screen Porch Pool Area Pool QC  \\\n",
       "0  Grvl       Reg          Lvl  ...          0            0         0     NaN   \n",
       "1   NaN       IR1          Lvl  ...          0            0         0     NaN   \n",
       "2   NaN       IR1          Lvl  ...          0            0         0     NaN   \n",
       "3   NaN       Reg          Lvl  ...          0            0         0     NaN   \n",
       "4   NaN       IR1          Lvl  ...          0          185         0     NaN   \n",
       "\n",
       "  Fence Misc Feature Misc Val Mo Sold  Yr Sold  Sale Type  \n",
       "0   NaN          NaN        0       4     2006        WD   \n",
       "1   NaN          NaN        0       8     2006        WD   \n",
       "2   NaN          NaN        0       9     2006        New  \n",
       "3   NaN          NaN        0       7     2007        WD   \n",
       "4   NaN          NaN        0       7     2009        WD   \n",
       "\n",
       "[5 rows x 80 columns]"
      ]
     },
     "execution_count": 9,
     "metadata": {},
     "output_type": "execute_result"
    }
   ],
   "source": [
    "test.head()"
   ]
  },
  {
   "cell_type": "code",
   "execution_count": 11,
   "id": "f6fad242",
   "metadata": {},
   "outputs": [
    {
     "data": {
      "text/plain": [
       "330"
      ]
     },
     "execution_count": 11,
     "metadata": {},
     "output_type": "execute_result"
    }
   ],
   "source": [
    "train['Lot Frontage'].isnull().sum()"
   ]
  },
  {
   "cell_type": "code",
   "execution_count": 12,
   "id": "c2732f29",
   "metadata": {},
   "outputs": [
    {
     "data": {
      "text/plain": [
       "160"
      ]
     },
     "execution_count": 12,
     "metadata": {},
     "output_type": "execute_result"
    }
   ],
   "source": [
    "test['Lot Frontage'].isnull().sum()"
   ]
  },
  {
   "cell_type": "code",
   "execution_count": 13,
   "id": "aa3bdf68",
   "metadata": {},
   "outputs": [],
   "source": [
    "train['Lot Frontage'] = train['Lot Frontage'].fillna(train['Lot Frontage'].mean())"
   ]
  },
  {
   "cell_type": "code",
   "execution_count": 14,
   "id": "a8784017",
   "metadata": {},
   "outputs": [
    {
     "data": {
      "text/plain": [
       "0"
      ]
     },
     "execution_count": 14,
     "metadata": {},
     "output_type": "execute_result"
    }
   ],
   "source": [
    "train['Lot Frontage'].isnull().sum()"
   ]
  },
  {
   "cell_type": "code",
   "execution_count": 15,
   "id": "bd8bc192",
   "metadata": {},
   "outputs": [
    {
     "data": {
      "text/plain": [
       "0"
      ]
     },
     "execution_count": 15,
     "metadata": {},
     "output_type": "execute_result"
    }
   ],
   "source": [
    "#  filling testing data with train mean, \n",
    "# cause we want the test data to allign with the  training set as much as possible\n",
    "test['Lot Frontage'] = test['Lot Frontage'].fillna(train['Lot Frontage'].mean())\n",
    "test['Lot Frontage'].isnull().sum()"
   ]
  },
  {
   "cell_type": "markdown",
   "id": "80b7cbb6",
   "metadata": {},
   "source": [
    "Fit model on training data:"
   ]
  },
  {
   "cell_type": "code",
   "execution_count": 19,
   "id": "d7614617",
   "metadata": {},
   "outputs": [],
   "source": [
    "X = train[['Overall Qual', 'Lot Frontage']]\n",
    "y = train['SalePrice']"
   ]
  },
  {
   "cell_type": "code",
   "execution_count": 22,
   "id": "a142a73b",
   "metadata": {},
   "outputs": [],
   "source": [
    "X_train, X_test, y_train, y_test = train_test_split(X,y, random_state = 11)"
   ]
  },
  {
   "cell_type": "code",
   "execution_count": 23,
   "id": "105ebc08",
   "metadata": {},
   "outputs": [],
   "source": [
    "demo = LinearRegression()"
   ]
  },
  {
   "cell_type": "code",
   "execution_count": 26,
   "id": "71ffbcfe",
   "metadata": {},
   "outputs": [
    {
     "data": {
      "text/plain": [
       "LinearRegression()"
      ]
     },
     "execution_count": 26,
     "metadata": {},
     "output_type": "execute_result"
    }
   ],
   "source": [
    "demo.fit(X_train, y_train)"
   ]
  },
  {
   "cell_type": "code",
   "execution_count": 27,
   "id": "03263199",
   "metadata": {},
   "outputs": [
    {
     "data": {
      "text/plain": [
       "(0.668783195462278, 0.6811008350432646)"
      ]
     },
     "execution_count": 27,
     "metadata": {},
     "output_type": "execute_result"
    }
   ],
   "source": [
    "demo.score(X_train, y_train), demo.score(X_test, y_test)"
   ]
  },
  {
   "cell_type": "code",
   "execution_count": 28,
   "id": "f6abea42",
   "metadata": {},
   "outputs": [],
   "source": [
    "kaggle_preds = demo.predict(test[['Overall Qual', 'Lot Frontage']])"
   ]
  },
  {
   "cell_type": "code",
   "execution_count": 29,
   "id": "141e6ea5",
   "metadata": {},
   "outputs": [
    {
     "data": {
      "text/plain": [
       "array([176595.79225559, 135282.32389481, 211066.24274027, 129620.74019438,\n",
       "       176630.30524658])"
      ]
     },
     "execution_count": 29,
     "metadata": {},
     "output_type": "execute_result"
    }
   ],
   "source": [
    "kaggle_preds[:5]"
   ]
  },
  {
   "cell_type": "code",
   "execution_count": 30,
   "id": "9f603cbd",
   "metadata": {},
   "outputs": [],
   "source": [
    "kaggle_output = {'Id': test['Id'], 'SalePrice': kaggle_preds}"
   ]
  },
  {
   "cell_type": "code",
   "execution_count": 31,
   "id": "6e3219e8",
   "metadata": {},
   "outputs": [
    {
     "data": {
      "text/plain": [
       "{'Id': 0      2658\n",
       " 1      2718\n",
       " 2      2414\n",
       " 3      1989\n",
       " 4       625\n",
       "        ... \n",
       " 873    1662\n",
       " 874    1234\n",
       " 875    1373\n",
       " 876    1672\n",
       " 877    1939\n",
       " Name: Id, Length: 878, dtype: int64,\n",
       " 'SalePrice': array([ 1.76595792e+05,  1.35282324e+05,  2.11066243e+05,  1.29620740e+05,\n",
       "         1.76630305e+05,  6.38887858e+04,  8.32709182e+04,  1.35282324e+05,\n",
       "         1.99186871e+05,  1.80347173e+05,  1.64716421e+05,  1.70968722e+05,\n",
       "         1.80347173e+05,  2.17978287e+05,  1.76595792e+05,  1.29620740e+05,\n",
       "         1.70968722e+05,  1.34622581e+05,  1.83473323e+05,  2.91803719e+05,\n",
       "         1.35282324e+05,  1.35282324e+05,  1.64716421e+05,  1.76630305e+05,\n",
       "         2.24821304e+05,  1.29620740e+05,  9.39343425e+04,  1.23368439e+05,\n",
       "         1.83473323e+05,  4.12977068e+04,  9.39343425e+04,  8.32709182e+04,\n",
       "         2.15442853e+05,  1.42125342e+05,  2.21695154e+05,  2.11066243e+05,\n",
       "         8.82727588e+04,  9.39343425e+04,  1.38373961e+05,  2.20444694e+05,\n",
       "         1.58464120e+05,  2.17978287e+05,  1.38999191e+05,  1.38999191e+05,\n",
       "         2.03563482e+05,  6.38887858e+04,  2.17318544e+05,  1.29620740e+05,\n",
       "         1.38373961e+05,  1.38999191e+05,  1.24618900e+05,  2.47412383e+05,\n",
       "         2.56790835e+05,  1.29620740e+05,  1.29620740e+05,  1.71593952e+05,\n",
       "         2.12316703e+05,  1.35282324e+05,  2.27947455e+05,  2.17978287e+05,\n",
       "         3.01182170e+05,  1.29620740e+05,  1.45251492e+05,  2.17978287e+05,\n",
       "         1.74094872e+05,  2.59326268e+05,  9.39343425e+04,  1.54712739e+05,\n",
       "         5.31770783e+04,  1.76630305e+05,  8.32709182e+04,  2.53039454e+05,\n",
       "         1.76630305e+05,  2.17978287e+05,  1.35282324e+05,  1.76630305e+05,\n",
       "         1.54629943e+05,  1.81597633e+05,  1.35282324e+05,  3.39404001e+05,\n",
       "         2.18569004e+05,  1.64716421e+05,  1.29620740e+05,  9.26493694e+04,\n",
       "         1.82848093e+05,  2.77423427e+05,  1.34622581e+05,  1.76630305e+05,\n",
       "         2.59326268e+05,  1.70968722e+05,  1.35282324e+05,  9.45250596e+04,\n",
       "         1.64716421e+05,  2.41160083e+05,  1.23368439e+05,  1.66592111e+05,\n",
       "         1.34622581e+05,  2.37408702e+05,  1.74094872e+05,  2.59916985e+05,\n",
       "         2.59326268e+05,  1.92851774e+05,  1.15240448e+05,  3.65121231e+05,\n",
       "         1.89725624e+05,  1.17116139e+05,  1.76630305e+05,  1.76630305e+05,\n",
       "         2.08482526e+05,  9.57755198e+04,  1.86599474e+05,  2.59326268e+05,\n",
       "         9.82764401e+04,  1.48377643e+05,  2.17978287e+05,  3.72623992e+05,\n",
       "         1.39624421e+05,  1.07112457e+05,  2.98138816e+05,  1.82222863e+05,\n",
       "         3.60119390e+05,  2.69920666e+05,  2.95012666e+05,  1.76630305e+05,\n",
       "         8.82727588e+04,  3.21272329e+05,  1.67134545e+05,  1.33372121e+05,\n",
       "         1.29620740e+05,  3.27524630e+05,  1.28995510e+05,  1.70343491e+05,\n",
       "         1.45876722e+05,  1.80347173e+05,  1.48460439e+05,  2.23570844e+05,\n",
       "         2.21695154e+05,  2.14192393e+05,  1.54712739e+05,  1.32746891e+05,\n",
       "         1.82222863e+05,  1.34622581e+05,  1.70968722e+05,  1.76630305e+05,\n",
       "         1.27745050e+05,  1.29620740e+05,  1.69093031e+05,  1.76630305e+05,\n",
       "         8.82727588e+04,  2.43578207e+05,  2.30448375e+05,  1.77221022e+05,\n",
       "         1.70968722e+05,  1.34622581e+05,  1.24618900e+05,  1.35282324e+05,\n",
       "         6.38887858e+04,  1.79096713e+05,  2.39201596e+05,  2.59326268e+05,\n",
       "         1.80347173e+05,  1.35873041e+05,  1.42125342e+05,  3.64496001e+05,\n",
       "         2.87509905e+05,  2.64918826e+05,  1.74720102e+05,  2.01687792e+05,\n",
       "         2.21695154e+05,  2.21695154e+05,  3.98883655e+05,  1.29620740e+05,\n",
       "         1.40874882e+05,  1.89808420e+05,  2.17978287e+05,  1.81597633e+05,\n",
       "         1.29620740e+05,  1.38999191e+05,  6.38887858e+04,  1.35873041e+05,\n",
       "         1.23993669e+05,  2.17978287e+05,  2.17978287e+05,  2.21695154e+05,\n",
       "         1.82222863e+05,  1.70968722e+05,  2.17978287e+05,  2.17978287e+05,\n",
       "         1.31496430e+05,  5.56779986e+04,  2.23570844e+05,  1.11489068e+05,\n",
       "         1.67842571e+05,  1.29620740e+05,  1.74094872e+05,  1.76630305e+05,\n",
       "         2.66169286e+05,  1.44626262e+05,  1.45251492e+05,  1.26494590e+05,\n",
       "         2.53664684e+05,  2.18569004e+05,  1.83473323e+05,  1.80972403e+05,\n",
       "         1.76630305e+05,  8.82727588e+04,  1.48460439e+05,  1.64716421e+05,\n",
       "         2.43661003e+05,  1.87224704e+05,  1.76630305e+05,  1.80972403e+05,\n",
       "         9.26493694e+04,  2.68587410e+05,  2.79381914e+05,  2.21695154e+05,\n",
       "         2.17978287e+05,  2.12316703e+05,  1.04528741e+05,  1.35282324e+05,\n",
       "         1.96685951e+05,  1.73469642e+05,  1.77846252e+05,  2.09732986e+05,\n",
       "         1.76630305e+05,  1.29620740e+05,  2.59326268e+05,  2.18569004e+05,\n",
       "         1.42125342e+05,  2.24196074e+05,  1.45251492e+05,  6.38887858e+04,\n",
       "         8.82727588e+04,  8.82727588e+04,  3.24940913e+05,  1.76630305e+05,\n",
       "         1.23368439e+05,  3.26274170e+05,  2.46787153e+05,  2.04188712e+05,\n",
       "         2.91178489e+05,  1.76630305e+05,  2.74297277e+05,  2.31073605e+05,\n",
       "         3.13144338e+05,  2.57416065e+05,  1.79721943e+05,  8.82727588e+04,\n",
       "         1.70968722e+05,  3.00014506e+05,  2.53039454e+05,  1.70968722e+05,\n",
       "         2.66169286e+05,  2.21695154e+05,  2.14734827e+05,  4.12977068e+04,\n",
       "         8.51466084e+04,  2.92511745e+05,  2.27947455e+05,  2.26614199e+05,\n",
       "         2.29197915e+05,  1.70968722e+05,  1.46584748e+05,  1.86599474e+05,\n",
       "         2.79841551e+05,  1.80972403e+05,  1.35873041e+05,  2.21695154e+05,\n",
       "         1.84723783e+05,  1.55337970e+05,  1.70968722e+05,  2.15442853e+05,\n",
       "         2.12316703e+05,  2.59326268e+05,  8.82727588e+04,  1.37748731e+05,\n",
       "         1.55963200e+05,  1.35282324e+05,  1.29620740e+05,  1.38999191e+05,\n",
       "         2.61167445e+05,  1.76630305e+05,  1.31496430e+05,  1.35247811e+05,\n",
       "         1.70968722e+05,  2.17978287e+05,  1.83473323e+05,  1.46584748e+05,\n",
       "         1.70968722e+05,  1.34622581e+05,  1.38999191e+05,  1.75970562e+05,\n",
       "         6.38887858e+04,  1.35873041e+05,  1.35282324e+05,  1.76630305e+05,\n",
       "         2.23570844e+05,  2.24196074e+05,  2.67419746e+05,  1.76630305e+05,\n",
       "         1.84723783e+05,  2.85008984e+05,  1.36498271e+05,  1.23993669e+05,\n",
       "         1.29620740e+05,  1.35282324e+05,  1.35282324e+05,  2.14817623e+05,\n",
       "         1.35282324e+05,  1.35282324e+05,  1.40874882e+05,  2.41785313e+05,\n",
       "         2.21069924e+05,  2.76172967e+05,  8.82727588e+04,  3.12519108e+05,\n",
       "         3.09392957e+05,  2.44286233e+05,  2.16068083e+05,  1.35282324e+05,\n",
       "         8.32709182e+04,  1.23368439e+05,  1.23368439e+05,  2.74922507e+05,\n",
       "         1.29620740e+05,  1.76630305e+05,  1.32121661e+05,  2.01687792e+05,\n",
       "         2.12316703e+05,  1.41500112e+05,  1.39624421e+05,  1.76630305e+05,\n",
       "         1.51503793e+05,  2.59326268e+05,  1.29620740e+05,  2.08565322e+05,\n",
       "         1.29620740e+05,  8.82727588e+04,  1.70968722e+05,  2.34907782e+05,\n",
       "         1.30245970e+05,  1.27119820e+05,  1.29620740e+05,  1.77221022e+05,\n",
       "         2.71171126e+05,  2.58666525e+05,  1.67217341e+05,  1.35282324e+05,\n",
       "         2.12316703e+05,  1.35282324e+05,  2.00437331e+05,  1.78471482e+05,\n",
       "         1.46584748e+05,  2.69295436e+05,  9.76512100e+04,  2.34824986e+05,\n",
       "         1.70968722e+05,  2.17318544e+05,  2.63043135e+05,  1.45251492e+05,\n",
       "         1.82848093e+05,  1.28287484e+05,  1.37123501e+05,  1.45251492e+05,\n",
       "         2.69295436e+05,  2.43661003e+05,  1.23368439e+05,  1.42125342e+05,\n",
       "         2.21695154e+05,  4.00472466e+04,  1.84098553e+05,  1.46584748e+05,\n",
       "         1.70968722e+05,  3.00674249e+05,  1.77221022e+05,  2.74297277e+05,\n",
       "         2.09190553e+05,  2.43661003e+05,  1.96060721e+05,  1.18366599e+05,\n",
       "         1.72844412e+05,  2.12316703e+05,  3.21272329e+05,  2.84926188e+05,\n",
       "         2.18569004e+05,  1.76630305e+05,  1.29620740e+05,  2.49913304e+05,\n",
       "         1.35282324e+05,  1.27745050e+05,  1.05236767e+05,  2.24196074e+05,\n",
       "         1.77221022e+05,  8.82727588e+04,  2.33574526e+05,  9.39343425e+04,\n",
       "         1.73469642e+05,  1.77221022e+05,  1.35282324e+05,  8.44385822e+04,\n",
       "         3.11185852e+05,  2.27947455e+05,  1.25869360e+05,  2.70545896e+05,\n",
       "         1.35873041e+05,  1.42125342e+05,  1.29620740e+05,  2.02313022e+05,\n",
       "         2.62417905e+05,  1.29620740e+05,  8.20204581e+04,  1.29620740e+05,\n",
       "         2.17978287e+05,  1.36498271e+05,  2.66169286e+05,  2.77423427e+05,\n",
       "         1.64008395e+05,  2.17978287e+05,  9.45250596e+04,  1.47127182e+05,\n",
       "         1.97228385e+05,  1.42125342e+05,  1.62757934e+05,  1.70343491e+05,\n",
       "         2.48580047e+05,  3.57618470e+05,  2.54289914e+05,  2.15442853e+05,\n",
       "         2.17978287e+05,  3.13769568e+05,  9.26493694e+04,  1.66592111e+05,\n",
       "         1.29620740e+05,  2.12941933e+05,  9.82764401e+04,  2.79299117e+05,\n",
       "         1.99812101e+05,  1.89725624e+05,  2.17978287e+05,  2.08482526e+05,\n",
       "         2.17978287e+05,  1.35282324e+05,  1.70968722e+05,  1.76630305e+05,\n",
       "         1.76630305e+05,  1.32746891e+05,  5.57679614e+03,  8.20204581e+04,\n",
       "         2.34199756e+05,  1.29620740e+05,  2.17978287e+05,  2.69295436e+05,\n",
       "         2.02313022e+05,  2.06689632e+05,  2.15442853e+05,  2.59326268e+05,\n",
       "         2.18569004e+05,  1.32746891e+05,  2.66169286e+05,  1.32121661e+05,\n",
       "         1.48460439e+05,  1.35873041e+05,  1.76595792e+05,  3.63870770e+05,\n",
       "         7.57681573e+04,  2.11691473e+05,  2.17978287e+05,  2.17978287e+05,\n",
       "         1.64716421e+05,  1.39624421e+05,  1.35282324e+05,  2.28572685e+05,\n",
       "         1.76630305e+05,  1.45876722e+05,  2.47329587e+05,  2.53664684e+05,\n",
       "         1.29620740e+05,  1.42125342e+05,  1.35873041e+05,  1.74094872e+05,\n",
       "         9.39343425e+04,  2.17978287e+05,  1.05236767e+05,  2.14192393e+05,\n",
       "         2.64918826e+05,  1.83473323e+05,  1.76630305e+05,  1.89725624e+05,\n",
       "         1.76630305e+05,  1.64716421e+05,  1.29620740e+05,  2.20444694e+05,\n",
       "         1.62840731e+05,  2.17978287e+05,  3.10643418e+05,  2.17978287e+05,\n",
       "         1.29620740e+05,  1.23368439e+05,  1.35282324e+05,  1.00777360e+05,\n",
       "         2.26614199e+05,  2.66169286e+05,  2.15442853e+05,  1.67842571e+05,\n",
       "         1.89725624e+05,  1.35282324e+05,  2.59916985e+05,  1.76630305e+05,\n",
       "         1.17741369e+05,  2.63043135e+05,  8.69395025e+04,  1.07112457e+05,\n",
       "         1.38999191e+05,  1.32746891e+05,  6.82725630e+03,  1.83473323e+05,\n",
       "         1.64008395e+05,  2.46079127e+05,  2.54289914e+05,  2.91803719e+05,\n",
       "         1.23993669e+05,  1.23993669e+05,  1.35282324e+05,  1.38999191e+05,\n",
       "         2.17978287e+05,  3.24398479e+05,  2.38659162e+05,  1.38999191e+05,\n",
       "         1.29620740e+05,  2.43336985e+04,  1.89808420e+05,  1.72844412e+05,\n",
       "         1.83473323e+05,  2.14817623e+05,  1.29620740e+05,  1.64716421e+05,\n",
       "         6.38887858e+04,  2.18569004e+05,  1.35282324e+05,  1.54087509e+05,\n",
       "         1.83473323e+05,  9.51502897e+04,  6.38887858e+04,  1.72219182e+05,\n",
       "         2.26071765e+05,  2.78048657e+05,  2.21695154e+05,  1.29620740e+05,\n",
       "         1.46584748e+05,  2.77423427e+05,  1.23993669e+05,  2.68670206e+05,\n",
       "         1.35282324e+05,  1.35282324e+05,  2.31698835e+05,  1.26494590e+05,\n",
       "         1.16490909e+05,  1.48460439e+05,  1.58464120e+05,  1.77221022e+05,\n",
       "         1.30245970e+05,  1.96685951e+05,  1.99104075e+05,  1.42125342e+05,\n",
       "         1.66592111e+05,  1.35282324e+05,  1.31496430e+05,  1.76630305e+05,\n",
       "         1.70343491e+05,  2.07940092e+05,  1.35282324e+05,  1.36498271e+05,\n",
       "         9.07736792e+04,  1.43375802e+05,  1.89725624e+05,  1.64716421e+05,\n",
       "         1.83473323e+05,  1.76630305e+05,  1.54004713e+05,  1.29620740e+05,\n",
       "         1.29620740e+05,  1.42125342e+05,  2.01062561e+05,  1.27119820e+05,\n",
       "         1.76630305e+05,  1.80972403e+05,  1.47127182e+05,  1.03903511e+05,\n",
       "         2.64293596e+05,  2.24821304e+05,  1.48377643e+05,  1.23368439e+05,\n",
       "         1.38999191e+05,  1.35282324e+05,  3.10643418e+05,  2.17978287e+05,\n",
       "         1.29620740e+05,  1.29620740e+05,  1.60882244e+05,  3.17520948e+05,\n",
       "         1.24618900e+05,  2.17978287e+05,  1.52754253e+05,  1.76630305e+05,\n",
       "         2.07940092e+05,  1.26494590e+05,  1.23368439e+05,  9.45250596e+04,\n",
       "         1.85349013e+05,  1.35873041e+05,  1.29620740e+05,  2.64293596e+05,\n",
       "         2.17978287e+05,  1.70885925e+05,  1.70968722e+05, -5.02745704e+01,\n",
       "         2.20444694e+05,  2.58041295e+05,  9.70259799e+04,  2.17978287e+05,\n",
       "         2.14817623e+05,  1.32121661e+05,  1.29620740e+05,  1.32746891e+05,\n",
       "         1.70968722e+05,  1.29620740e+05,  2.18569004e+05,  1.42125342e+05,\n",
       "         2.33657322e+05,  1.72844412e+05,  1.40874882e+05,  1.64716421e+05,\n",
       "         1.14615218e+05,  3.75463263e+04,  1.37748731e+05,  1.76630305e+05,\n",
       "         1.48460439e+05,  1.83473323e+05,  1.42125342e+05,  1.29620740e+05,\n",
       "         3.13144338e+05,  1.38373961e+05,  1.85974243e+05,  2.71796357e+05,\n",
       "         1.76630305e+05,  8.20204581e+04,  2.59326268e+05,  1.89808420e+05,\n",
       "         1.55337970e+05,  1.76630305e+05,  1.42750572e+05,  1.48377643e+05,\n",
       "         1.28370280e+05,  1.74094872e+05,  5.25863612e+04,  1.70968722e+05,\n",
       "         2.15442853e+05,  1.69093031e+05,  2.25446535e+05,  2.08482526e+05,\n",
       "         1.76630305e+05,  1.98478845e+05,  1.86599474e+05,  2.17978287e+05,\n",
       "         3.25023709e+05,  2.57958499e+05,  1.34622581e+05,  1.73469642e+05,\n",
       "         1.92143748e+05,  2.66169286e+05,  2.61167445e+05,  1.94810261e+05,\n",
       "         2.17978287e+05,  1.35282324e+05,  1.30871200e+05,  1.45251492e+05,\n",
       "         1.29620740e+05,  9.39343425e+04,  1.74720102e+05,  1.29620740e+05,\n",
       "         2.78673887e+05,  2.42327747e+05,  1.70343491e+05,  2.63043135e+05,\n",
       "         1.76630305e+05,  1.83473323e+05,  1.74094872e+05,  3.13769568e+05,\n",
       "         1.35873041e+05,  1.77221022e+05,  4.25481669e+04,  1.35282324e+05,\n",
       "         2.52331428e+05,  1.70343491e+05,  2.17978287e+05,  1.82848093e+05,\n",
       "         2.26696995e+05,  2.67419746e+05,  1.23368439e+05,  2.46161923e+05,\n",
       "         1.76630305e+05,  8.82727588e+04,  1.80347173e+05,  1.42125342e+05,\n",
       "         2.24821304e+05,  2.32949295e+05,  1.76630305e+05,  1.40874882e+05,\n",
       "         8.82727588e+04,  3.13769568e+05,  2.17318544e+05,  7.13915467e+04,\n",
       "         1.42125342e+05,  1.35282324e+05,  1.23368439e+05,  1.80347173e+05,\n",
       "         2.01062561e+05,  2.31156401e+05,  1.83473323e+05,  2.48580047e+05,\n",
       "         2.15442853e+05,  2.63043135e+05,  1.32746891e+05,  1.05236767e+05,\n",
       "         2.68670206e+05,  1.42125342e+05,  2.27947455e+05,  1.34622581e+05,\n",
       "         2.84926188e+05,  8.20204581e+04,  2.61167445e+05,  1.91601314e+05,\n",
       "         2.59326268e+05,  1.82222863e+05,  1.35282324e+05,  1.45251492e+05,\n",
       "         1.38999191e+05,  1.76630305e+05,  1.77221022e+05,  1.46501952e+05,\n",
       "         2.29823145e+05,  1.35282324e+05,  1.34622581e+05,  1.35282324e+05,\n",
       "         1.76630305e+05,  1.35282324e+05,  2.17978287e+05,  1.83473323e+05,\n",
       "         1.76630305e+05,  2.71171126e+05,  2.69920666e+05,  1.29620740e+05,\n",
       "         1.48460439e+05,  1.76630305e+05,  1.09530582e+05,  1.46584748e+05,\n",
       "         3.24398479e+05,  8.32709182e+04,  1.29620740e+05,  2.46161923e+05,\n",
       "         1.80347173e+05,  2.21695154e+05,  9.76512100e+04,  2.02230225e+05,\n",
       "         1.69093031e+05,  2.75547737e+05,  2.12316703e+05,  2.15442853e+05,\n",
       "         2.69295436e+05,  1.69718261e+05,  2.32324065e+05,  2.28572685e+05,\n",
       "         1.35282324e+05,  1.76630305e+05,  1.35282324e+05,  1.38999191e+05,\n",
       "         2.25446535e+05,  1.76630305e+05,  8.82727588e+04,  1.29620740e+05,\n",
       "         1.76630305e+05,  3.15020028e+05,  1.29620740e+05,  1.29620740e+05,\n",
       "         8.26456881e+04,  1.35282324e+05,  2.60542215e+05,  1.48460439e+05,\n",
       "         2.04813942e+05,  1.43375802e+05,  2.27947455e+05,  2.17978287e+05,\n",
       "         1.76630305e+05,  2.69295436e+05,  1.54629943e+05,  2.41160083e+05,\n",
       "         2.38033932e+05,  2.24196074e+05,  2.17318544e+05,  2.12941933e+05,\n",
       "         1.35873041e+05,  1.70968722e+05,  2.14817623e+05,  9.39343425e+04,\n",
       "         2.17978287e+05,  1.23993669e+05,  1.23368439e+05,  2.14192393e+05,\n",
       "         1.74720102e+05,  1.35873041e+05,  1.37748731e+05,  2.59326268e+05,\n",
       "         1.76630305e+05,  1.53379483e+05,  2.09190553e+05,  2.19819464e+05,\n",
       "         1.95977925e+05,  8.82727588e+04,  9.64007499e+04,  1.76630305e+05,\n",
       "         1.83473323e+05,  1.54004713e+05,  3.23148019e+05,  8.57718385e+04,\n",
       "         1.89808420e+05,  2.02313022e+05,  3.20021869e+05,  1.35282324e+05,\n",
       "         1.67842571e+05,  1.42125342e+05,  2.01687792e+05,  1.83473323e+05,\n",
       "         2.59326268e+05,  2.46161923e+05,  1.82848093e+05,  1.35873041e+05,\n",
       "         2.59291755e+05,  1.29620740e+05,  1.35247811e+05,  1.35282324e+05,\n",
       "         2.24821304e+05,  1.97311181e+05,  2.17978287e+05,  1.38999191e+05,\n",
       "         1.69093031e+05,  2.14734827e+05,  2.17978287e+05,  2.19819464e+05,\n",
       "         1.48460439e+05,  1.59714580e+05,  1.53462279e+05,  1.76630305e+05,\n",
       "         1.70968722e+05,  1.35282324e+05,  1.74720102e+05,  4.69247775e+04,\n",
       "         2.54289914e+05,  6.38887858e+04,  2.19819464e+05,  1.35282324e+05,\n",
       "         3.13769568e+05,  1.96060721e+05,  1.07112457e+05,  1.45251492e+05,\n",
       "         1.32121661e+05,  2.18569004e+05,  1.76630305e+05,  2.17978287e+05,\n",
       "         1.35873041e+05,  1.35282324e+05,  2.88594773e+05,  2.66169286e+05,\n",
       "         2.18569004e+05,  1.83473323e+05,  1.89725624e+05,  1.26494590e+05,\n",
       "         8.82727588e+04,  1.35873041e+05])}"
      ]
     },
     "execution_count": 31,
     "metadata": {},
     "output_type": "execute_result"
    }
   ],
   "source": [
    "kaggle_output"
   ]
  },
  {
   "cell_type": "code",
   "execution_count": 32,
   "id": "78253ce0",
   "metadata": {},
   "outputs": [],
   "source": [
    "dataframe = pd.DataFrame(kaggle_output)"
   ]
  },
  {
   "cell_type": "code",
   "execution_count": 33,
   "id": "aa4338d9",
   "metadata": {},
   "outputs": [
    {
     "data": {
      "text/html": [
       "<div>\n",
       "<style scoped>\n",
       "    .dataframe tbody tr th:only-of-type {\n",
       "        vertical-align: middle;\n",
       "    }\n",
       "\n",
       "    .dataframe tbody tr th {\n",
       "        vertical-align: top;\n",
       "    }\n",
       "\n",
       "    .dataframe thead th {\n",
       "        text-align: right;\n",
       "    }\n",
       "</style>\n",
       "<table border=\"1\" class=\"dataframe\">\n",
       "  <thead>\n",
       "    <tr style=\"text-align: right;\">\n",
       "      <th></th>\n",
       "      <th>Id</th>\n",
       "      <th>SalePrice</th>\n",
       "    </tr>\n",
       "  </thead>\n",
       "  <tbody>\n",
       "    <tr>\n",
       "      <th>0</th>\n",
       "      <td>2658</td>\n",
       "      <td>176595.792256</td>\n",
       "    </tr>\n",
       "    <tr>\n",
       "      <th>1</th>\n",
       "      <td>2718</td>\n",
       "      <td>135282.323895</td>\n",
       "    </tr>\n",
       "    <tr>\n",
       "      <th>2</th>\n",
       "      <td>2414</td>\n",
       "      <td>211066.242740</td>\n",
       "    </tr>\n",
       "    <tr>\n",
       "      <th>3</th>\n",
       "      <td>1989</td>\n",
       "      <td>129620.740194</td>\n",
       "    </tr>\n",
       "    <tr>\n",
       "      <th>4</th>\n",
       "      <td>625</td>\n",
       "      <td>176630.305247</td>\n",
       "    </tr>\n",
       "  </tbody>\n",
       "</table>\n",
       "</div>"
      ],
      "text/plain": [
       "     Id      SalePrice\n",
       "0  2658  176595.792256\n",
       "1  2718  135282.323895\n",
       "2  2414  211066.242740\n",
       "3  1989  129620.740194\n",
       "4   625  176630.305247"
      ]
     },
     "execution_count": 33,
     "metadata": {},
     "output_type": "execute_result"
    }
   ],
   "source": [
    "dataframe.head()"
   ]
  },
  {
   "cell_type": "code",
   "execution_count": 34,
   "id": "11b88282",
   "metadata": {},
   "outputs": [],
   "source": [
    "dataframe.to_csv('demo_submission.csv', index = False)"
   ]
  },
  {
   "cell_type": "code",
   "execution_count": null,
   "id": "6feba8d5",
   "metadata": {},
   "outputs": [],
   "source": [
    "#  download the csv file on the computer and upload in the kaggle comp"
   ]
  }
 ],
 "metadata": {
  "kernelspec": {
   "display_name": "Python 3",
   "language": "python",
   "name": "python3"
  },
  "language_info": {
   "codemirror_mode": {
    "name": "ipython",
    "version": 3
   },
   "file_extension": ".py",
   "mimetype": "text/x-python",
   "name": "python",
   "nbconvert_exporter": "python",
   "pygments_lexer": "ipython3",
   "version": "3.8.8"
  }
 },
 "nbformat": 4,
 "nbformat_minor": 5
}
